{
 "cells": [
  {
   "cell_type": "markdown",
   "metadata": {
    "id": "rfUdHCfe1b6v"
   },
   "source": [
    "___\n",
    "\n",
    "<p style=\"text-align: center;\"><img src=\"https://docs.google.com/uc?id=1lY0Uj5R04yMY3-ZppPWxqCr5pvBLYPnV\" class=\"img-fluid\" alt=\"CLRSWY\"></p>\n",
    "\n",
    "___"
   ]
  },
  {
   "cell_type": "markdown",
   "metadata": {
    "cell_style": "split",
    "heading_collapsed": true,
    "id": "CvFxPmf41b6y"
   },
   "source": [
    "# WELCOME!"
   ]
  },
  {
   "cell_type": "markdown",
   "metadata": {
    "cell_style": "split",
    "hidden": true,
    "id": "WZUMKNQY1b6y"
   },
   "source": [
    "In this project, you must apply EDA processes for the development of predictive models. Handling outliers, domain knowledge and feature engineering will be challenges.\n",
    "\n",
    "Also, this project aims to improve your ability to implement algorithms for Multi-Class Classification. Thus, you will have the opportunity to implement many algorithms commonly used for Multi-Class Classification problems.\n",
    "\n",
    "Before diving into the project, please take a look at the determines and tasks."
   ]
  },
  {
   "cell_type": "markdown",
   "metadata": {
    "cell_style": "split",
    "heading_collapsed": true,
    "id": "laCRtJs51b6z"
   },
   "source": [
    "# Determines"
   ]
  },
  {
   "cell_type": "markdown",
   "metadata": {
    "cell_style": "split",
    "hidden": true,
    "id": "iixh9Bej1b6z"
   },
   "source": [
    "The 2012 US Army Anthropometric Survey (ANSUR II) was executed by the Natick Soldier Research, Development and Engineering Center (NSRDEC) from October 2010 to April 2012 and is comprised of personnel representing the total US Army force to include the US Army Active Duty, Reserves, and National Guard. In addition to the anthropometric and demographic data described below, the ANSUR II database also consists of 3D whole body, foot, and head scans of Soldier participants. These 3D data are not publicly available out of respect for the privacy of ANSUR II participants. The data from this survey are used for a wide range of equipment design, sizing, and tariffing applications within the military and has many potential commercial, industrial, and academic applications.\n",
    "\n",
    "The ANSUR II working databases contain 93 anthropometric measurements which were directly measured, and 15 demographic/administrative variables explained below. The ANSUR II Male working database contains a total sample of 4,082 subjects. The ANSUR II Female working database contains a total sample of 1,986 subjects.\n",
    "\n",
    "\n",
    "DATA DICT:\n",
    "https://data.world/datamil/ansur-ii-data-dictionary/workspace/file?filename=ANSUR+II+Databases+Overview.pdf\n",
    "\n",
    "---\n",
    "\n",
    "To achieve high prediction success, you must understand the data well and develop different approaches that can affect the dependent variable.\n",
    "\n",
    "Firstly, try to understand the dataset column by column using pandas module. Do research within the scope of domain (body scales, and race characteristics) knowledge on the internet to get to know the data set in the fastest way. \n",
    "\n",
    "You will implement ***Logistic Regression, Support Vector Machine, XGBoost, Random Forest*** algorithms. Also, evaluate the success of your models with appropriate performance metrics.\n",
    "\n",
    "At the end of the project, choose the most successful model and try to enhance the scores with ***SMOTE*** make it ready to deploy. Furthermore, use ***SHAP*** to explain how the best model you choose works."
   ]
  },
  {
   "cell_type": "markdown",
   "metadata": {
    "cell_style": "split",
    "heading_collapsed": true,
    "id": "P2UckCvP1b60"
   },
   "source": [
    "# Tasks"
   ]
  },
  {
   "cell_type": "markdown",
   "metadata": {
    "cell_style": "split",
    "hidden": true,
    "id": "gCVDEsGB1b60"
   },
   "source": [
    "#### 1. Exploratory Data Analysis (EDA)\n",
    "- Import Libraries, Load Dataset, Exploring Data\n",
    "\n",
    "    *i. Import Libraries*\n",
    "    \n",
    "    *ii. Ingest Data *\n",
    "    \n",
    "    *iii. Explore Data*\n",
    "    \n",
    "    *iv. Outlier Detection*\n",
    "    \n",
    "    *v.  Drop unnecessary features*\n",
    "\n",
    "#### 2. Data Preprocessing\n",
    "- Scale (if needed)\n",
    "- Separete the data frame for evaluation purposes\n",
    "\n",
    "#### 3. Multi-class Classification\n",
    "- Import libraries\n",
    "- Implement SVM Classifer\n",
    "- Implement Decision Tree Classifier\n",
    "- Implement Random Forest Classifer\n",
    "- Implement XGBoost Classifer\n",
    "- Compare The Models\n",
    "\n"
   ]
  },
  {
   "cell_type": "markdown",
   "metadata": {
    "heading_collapsed": true,
    "id": "Y5-Kay1Eqvdj"
   },
   "source": [
    "# EDA\n",
    "- Drop unnecessary colums\n",
    "- Drop DODRace class if value count below 500 (we assume that our data model can't learn if it is below 500)"
   ]
  },
  {
   "cell_type": "markdown",
   "metadata": {
    "heading_collapsed": true,
    "hidden": true,
    "id": "K7UZHtvu1b62"
   },
   "source": [
    "## Import Libraries\n",
    "Besides Numpy and Pandas, you need to import the necessary modules for data visualization, data preprocessing, Model building and tuning.\n",
    "\n",
    "*Note: Check out the course materials.*"
   ]
  },
  {
   "cell_type": "code",
   "execution_count": 139,
   "metadata": {
    "hidden": true,
    "id": "OqnRjwHB1b64"
   },
   "outputs": [],
   "source": [
    "import pandas as pd\n",
    "import numpy as np\n",
    "import matplotlib.pyplot as plt\n",
    "import seaborn as sns\n",
    "%matplotlib inline\n",
    "\n",
    "plt.rcParams[\"figure.figsize\"] = (7,4)\n",
    "import warnings\n",
    "warnings.filterwarnings(\"ignore\")\n",
    "warnings.warn(\"this will not show\")"
   ]
  },
  {
   "cell_type": "markdown",
   "metadata": {
    "heading_collapsed": true,
    "hidden": true,
    "id": "C5lJeTBu1b65"
   },
   "source": [
    "## Ingest Data from links below and make a dataframe\n",
    "- Soldiers Male : https://query.data.world/s/h3pbhckz5ck4rc7qmt2wlknlnn7esr\n",
    "- Soldiers Female : https://query.data.world/s/sq27zz4hawg32yfxksqwijxmpwmynq"
   ]
  },
  {
   "cell_type": "code",
   "execution_count": 140,
   "metadata": {
    "hidden": true,
    "id": "tG5BsWraqX_y"
   },
   "outputs": [],
   "source": [
    "df_male = pd.read_csv(\"https://query.data.world/s/h3pbhckz5ck4rc7qmt2wlknlnn7esr\", encoding=\"latin-1\")"
   ]
  },
  {
   "cell_type": "code",
   "execution_count": 141,
   "metadata": {
    "id": "7zQyKnT0m9rO"
   },
   "outputs": [],
   "source": [
    "df_female = pd.read_csv(\"https://query.data.world/s/sq27zz4hawg32yfxksqwijxmpwmynq\")"
   ]
  },
  {
   "cell_type": "markdown",
   "metadata": {
    "heading_collapsed": true,
    "hidden": true,
    "id": "TMjCTEG51b67"
   },
   "source": [
    "## Explore Data"
   ]
  },
  {
   "cell_type": "code",
   "execution_count": 142,
   "metadata": {
    "colab": {
     "base_uri": "https://localhost:8080/",
     "height": 421
    },
    "hidden": true,
    "id": "SnlGRPWbrNAj",
    "outputId": "9ad821a9-e6f6-47c7-8f57-e060616b8c7c"
   },
   "outputs": [
    {
     "data": {
      "text/html": [
       "<div>\n",
       "<style scoped>\n",
       "    .dataframe tbody tr th:only-of-type {\n",
       "        vertical-align: middle;\n",
       "    }\n",
       "\n",
       "    .dataframe tbody tr th {\n",
       "        vertical-align: top;\n",
       "    }\n",
       "\n",
       "    .dataframe thead th {\n",
       "        text-align: right;\n",
       "    }\n",
       "</style>\n",
       "<table border=\"1\" class=\"dataframe\">\n",
       "  <thead>\n",
       "    <tr style=\"text-align: right;\">\n",
       "      <th></th>\n",
       "      <th>subjectid</th>\n",
       "      <th>abdominalextensiondepthsitting</th>\n",
       "      <th>acromialheight</th>\n",
       "      <th>acromionradialelength</th>\n",
       "      <th>anklecircumference</th>\n",
       "      <th>axillaheight</th>\n",
       "      <th>balloffootcircumference</th>\n",
       "      <th>balloffootlength</th>\n",
       "      <th>biacromialbreadth</th>\n",
       "      <th>bicepscircumferenceflexed</th>\n",
       "      <th>...</th>\n",
       "      <th>Branch</th>\n",
       "      <th>PrimaryMOS</th>\n",
       "      <th>SubjectsBirthLocation</th>\n",
       "      <th>SubjectNumericRace</th>\n",
       "      <th>Ethnicity</th>\n",
       "      <th>DODRace</th>\n",
       "      <th>Age</th>\n",
       "      <th>Heightin</th>\n",
       "      <th>Weightlbs</th>\n",
       "      <th>WritingPreference</th>\n",
       "    </tr>\n",
       "  </thead>\n",
       "  <tbody>\n",
       "    <tr>\n",
       "      <th>0</th>\n",
       "      <td>10027</td>\n",
       "      <td>266</td>\n",
       "      <td>1467</td>\n",
       "      <td>337</td>\n",
       "      <td>222</td>\n",
       "      <td>1347</td>\n",
       "      <td>253</td>\n",
       "      <td>202</td>\n",
       "      <td>401</td>\n",
       "      <td>369</td>\n",
       "      <td>...</td>\n",
       "      <td>Combat Arms</td>\n",
       "      <td>19D</td>\n",
       "      <td>North Dakota</td>\n",
       "      <td>1</td>\n",
       "      <td>NaN</td>\n",
       "      <td>1</td>\n",
       "      <td>41</td>\n",
       "      <td>71</td>\n",
       "      <td>180</td>\n",
       "      <td>Right hand</td>\n",
       "    </tr>\n",
       "    <tr>\n",
       "      <th>1</th>\n",
       "      <td>10032</td>\n",
       "      <td>233</td>\n",
       "      <td>1395</td>\n",
       "      <td>326</td>\n",
       "      <td>220</td>\n",
       "      <td>1293</td>\n",
       "      <td>245</td>\n",
       "      <td>193</td>\n",
       "      <td>394</td>\n",
       "      <td>338</td>\n",
       "      <td>...</td>\n",
       "      <td>Combat Support</td>\n",
       "      <td>68W</td>\n",
       "      <td>New York</td>\n",
       "      <td>1</td>\n",
       "      <td>NaN</td>\n",
       "      <td>1</td>\n",
       "      <td>35</td>\n",
       "      <td>68</td>\n",
       "      <td>160</td>\n",
       "      <td>Left hand</td>\n",
       "    </tr>\n",
       "    <tr>\n",
       "      <th>2</th>\n",
       "      <td>10033</td>\n",
       "      <td>287</td>\n",
       "      <td>1430</td>\n",
       "      <td>341</td>\n",
       "      <td>230</td>\n",
       "      <td>1327</td>\n",
       "      <td>256</td>\n",
       "      <td>196</td>\n",
       "      <td>427</td>\n",
       "      <td>408</td>\n",
       "      <td>...</td>\n",
       "      <td>Combat Support</td>\n",
       "      <td>68W</td>\n",
       "      <td>New York</td>\n",
       "      <td>2</td>\n",
       "      <td>NaN</td>\n",
       "      <td>2</td>\n",
       "      <td>42</td>\n",
       "      <td>68</td>\n",
       "      <td>205</td>\n",
       "      <td>Left hand</td>\n",
       "    </tr>\n",
       "    <tr>\n",
       "      <th>3</th>\n",
       "      <td>10092</td>\n",
       "      <td>234</td>\n",
       "      <td>1347</td>\n",
       "      <td>310</td>\n",
       "      <td>230</td>\n",
       "      <td>1239</td>\n",
       "      <td>262</td>\n",
       "      <td>199</td>\n",
       "      <td>401</td>\n",
       "      <td>359</td>\n",
       "      <td>...</td>\n",
       "      <td>Combat Service Support</td>\n",
       "      <td>88M</td>\n",
       "      <td>Wisconsin</td>\n",
       "      <td>1</td>\n",
       "      <td>NaN</td>\n",
       "      <td>1</td>\n",
       "      <td>31</td>\n",
       "      <td>66</td>\n",
       "      <td>175</td>\n",
       "      <td>Right hand</td>\n",
       "    </tr>\n",
       "    <tr>\n",
       "      <th>4</th>\n",
       "      <td>10093</td>\n",
       "      <td>250</td>\n",
       "      <td>1585</td>\n",
       "      <td>372</td>\n",
       "      <td>247</td>\n",
       "      <td>1478</td>\n",
       "      <td>267</td>\n",
       "      <td>224</td>\n",
       "      <td>435</td>\n",
       "      <td>356</td>\n",
       "      <td>...</td>\n",
       "      <td>Combat Service Support</td>\n",
       "      <td>92G</td>\n",
       "      <td>North Carolina</td>\n",
       "      <td>2</td>\n",
       "      <td>NaN</td>\n",
       "      <td>2</td>\n",
       "      <td>21</td>\n",
       "      <td>77</td>\n",
       "      <td>213</td>\n",
       "      <td>Right hand</td>\n",
       "    </tr>\n",
       "  </tbody>\n",
       "</table>\n",
       "<p>5 rows × 108 columns</p>\n",
       "</div>"
      ],
      "text/plain": [
       "   subjectid  abdominalextensiondepthsitting  acromialheight  \\\n",
       "0      10027                             266            1467   \n",
       "1      10032                             233            1395   \n",
       "2      10033                             287            1430   \n",
       "3      10092                             234            1347   \n",
       "4      10093                             250            1585   \n",
       "\n",
       "   acromionradialelength  anklecircumference  axillaheight  \\\n",
       "0                    337                 222          1347   \n",
       "1                    326                 220          1293   \n",
       "2                    341                 230          1327   \n",
       "3                    310                 230          1239   \n",
       "4                    372                 247          1478   \n",
       "\n",
       "   balloffootcircumference  balloffootlength  biacromialbreadth  \\\n",
       "0                      253               202                401   \n",
       "1                      245               193                394   \n",
       "2                      256               196                427   \n",
       "3                      262               199                401   \n",
       "4                      267               224                435   \n",
       "\n",
       "   bicepscircumferenceflexed  ...                  Branch  PrimaryMOS  \\\n",
       "0                        369  ...             Combat Arms         19D   \n",
       "1                        338  ...          Combat Support         68W   \n",
       "2                        408  ...          Combat Support         68W   \n",
       "3                        359  ...  Combat Service Support         88M   \n",
       "4                        356  ...  Combat Service Support         92G   \n",
       "\n",
       "   SubjectsBirthLocation  SubjectNumericRace  Ethnicity  DODRace  Age  \\\n",
       "0           North Dakota                   1        NaN        1   41   \n",
       "1               New York                   1        NaN        1   35   \n",
       "2               New York                   2        NaN        2   42   \n",
       "3              Wisconsin                   1        NaN        1   31   \n",
       "4         North Carolina                   2        NaN        2   21   \n",
       "\n",
       "   Heightin  Weightlbs  WritingPreference  \n",
       "0        71        180         Right hand  \n",
       "1        68        160          Left hand  \n",
       "2        68        205          Left hand  \n",
       "3        66        175         Right hand  \n",
       "4        77        213         Right hand  \n",
       "\n",
       "[5 rows x 108 columns]"
      ]
     },
     "execution_count": 142,
     "metadata": {},
     "output_type": "execute_result"
    }
   ],
   "source": [
    "df_male.head()"
   ]
  },
  {
   "cell_type": "code",
   "execution_count": 143,
   "metadata": {
    "colab": {
     "base_uri": "https://localhost:8080/",
     "height": 438
    },
    "id": "IVnqvSzyogjt",
    "outputId": "189bd5ab-6137-47db-9f7e-0a016938af84",
    "scrolled": true
   },
   "outputs": [
    {
     "data": {
      "text/html": [
       "<div>\n",
       "<style scoped>\n",
       "    .dataframe tbody tr th:only-of-type {\n",
       "        vertical-align: middle;\n",
       "    }\n",
       "\n",
       "    .dataframe tbody tr th {\n",
       "        vertical-align: top;\n",
       "    }\n",
       "\n",
       "    .dataframe thead th {\n",
       "        text-align: right;\n",
       "    }\n",
       "</style>\n",
       "<table border=\"1\" class=\"dataframe\">\n",
       "  <thead>\n",
       "    <tr style=\"text-align: right;\">\n",
       "      <th></th>\n",
       "      <th>SubjectId</th>\n",
       "      <th>abdominalextensiondepthsitting</th>\n",
       "      <th>acromialheight</th>\n",
       "      <th>acromionradialelength</th>\n",
       "      <th>anklecircumference</th>\n",
       "      <th>axillaheight</th>\n",
       "      <th>balloffootcircumference</th>\n",
       "      <th>balloffootlength</th>\n",
       "      <th>biacromialbreadth</th>\n",
       "      <th>bicepscircumferenceflexed</th>\n",
       "      <th>...</th>\n",
       "      <th>Branch</th>\n",
       "      <th>PrimaryMOS</th>\n",
       "      <th>SubjectsBirthLocation</th>\n",
       "      <th>SubjectNumericRace</th>\n",
       "      <th>Ethnicity</th>\n",
       "      <th>DODRace</th>\n",
       "      <th>Age</th>\n",
       "      <th>Heightin</th>\n",
       "      <th>Weightlbs</th>\n",
       "      <th>WritingPreference</th>\n",
       "    </tr>\n",
       "  </thead>\n",
       "  <tbody>\n",
       "    <tr>\n",
       "      <th>0</th>\n",
       "      <td>10037</td>\n",
       "      <td>231</td>\n",
       "      <td>1282</td>\n",
       "      <td>301</td>\n",
       "      <td>204</td>\n",
       "      <td>1180</td>\n",
       "      <td>222</td>\n",
       "      <td>177</td>\n",
       "      <td>373</td>\n",
       "      <td>315</td>\n",
       "      <td>...</td>\n",
       "      <td>Combat Support</td>\n",
       "      <td>92Y</td>\n",
       "      <td>Germany</td>\n",
       "      <td>2</td>\n",
       "      <td>NaN</td>\n",
       "      <td>2</td>\n",
       "      <td>26</td>\n",
       "      <td>61</td>\n",
       "      <td>142</td>\n",
       "      <td>Right hand</td>\n",
       "    </tr>\n",
       "    <tr>\n",
       "      <th>1</th>\n",
       "      <td>10038</td>\n",
       "      <td>194</td>\n",
       "      <td>1379</td>\n",
       "      <td>320</td>\n",
       "      <td>207</td>\n",
       "      <td>1292</td>\n",
       "      <td>225</td>\n",
       "      <td>178</td>\n",
       "      <td>372</td>\n",
       "      <td>272</td>\n",
       "      <td>...</td>\n",
       "      <td>Combat Service Support</td>\n",
       "      <td>25U</td>\n",
       "      <td>California</td>\n",
       "      <td>3</td>\n",
       "      <td>Mexican</td>\n",
       "      <td>3</td>\n",
       "      <td>21</td>\n",
       "      <td>64</td>\n",
       "      <td>120</td>\n",
       "      <td>Right hand</td>\n",
       "    </tr>\n",
       "    <tr>\n",
       "      <th>2</th>\n",
       "      <td>10042</td>\n",
       "      <td>183</td>\n",
       "      <td>1369</td>\n",
       "      <td>329</td>\n",
       "      <td>233</td>\n",
       "      <td>1271</td>\n",
       "      <td>237</td>\n",
       "      <td>196</td>\n",
       "      <td>397</td>\n",
       "      <td>300</td>\n",
       "      <td>...</td>\n",
       "      <td>Combat Service Support</td>\n",
       "      <td>35D</td>\n",
       "      <td>Texas</td>\n",
       "      <td>1</td>\n",
       "      <td>NaN</td>\n",
       "      <td>1</td>\n",
       "      <td>23</td>\n",
       "      <td>68</td>\n",
       "      <td>147</td>\n",
       "      <td>Right hand</td>\n",
       "    </tr>\n",
       "    <tr>\n",
       "      <th>3</th>\n",
       "      <td>10043</td>\n",
       "      <td>261</td>\n",
       "      <td>1356</td>\n",
       "      <td>306</td>\n",
       "      <td>214</td>\n",
       "      <td>1250</td>\n",
       "      <td>240</td>\n",
       "      <td>188</td>\n",
       "      <td>384</td>\n",
       "      <td>364</td>\n",
       "      <td>...</td>\n",
       "      <td>Combat Service Support</td>\n",
       "      <td>25U</td>\n",
       "      <td>District of Columbia</td>\n",
       "      <td>8</td>\n",
       "      <td>Caribbean Islander</td>\n",
       "      <td>2</td>\n",
       "      <td>22</td>\n",
       "      <td>66</td>\n",
       "      <td>175</td>\n",
       "      <td>Right hand</td>\n",
       "    </tr>\n",
       "    <tr>\n",
       "      <th>4</th>\n",
       "      <td>10051</td>\n",
       "      <td>309</td>\n",
       "      <td>1303</td>\n",
       "      <td>308</td>\n",
       "      <td>214</td>\n",
       "      <td>1210</td>\n",
       "      <td>217</td>\n",
       "      <td>182</td>\n",
       "      <td>378</td>\n",
       "      <td>320</td>\n",
       "      <td>...</td>\n",
       "      <td>Combat Arms</td>\n",
       "      <td>42A</td>\n",
       "      <td>Texas</td>\n",
       "      <td>1</td>\n",
       "      <td>NaN</td>\n",
       "      <td>1</td>\n",
       "      <td>45</td>\n",
       "      <td>63</td>\n",
       "      <td>195</td>\n",
       "      <td>Right hand</td>\n",
       "    </tr>\n",
       "  </tbody>\n",
       "</table>\n",
       "<p>5 rows × 108 columns</p>\n",
       "</div>"
      ],
      "text/plain": [
       "   SubjectId  abdominalextensiondepthsitting  acromialheight  \\\n",
       "0      10037                             231            1282   \n",
       "1      10038                             194            1379   \n",
       "2      10042                             183            1369   \n",
       "3      10043                             261            1356   \n",
       "4      10051                             309            1303   \n",
       "\n",
       "   acromionradialelength  anklecircumference  axillaheight  \\\n",
       "0                    301                 204          1180   \n",
       "1                    320                 207          1292   \n",
       "2                    329                 233          1271   \n",
       "3                    306                 214          1250   \n",
       "4                    308                 214          1210   \n",
       "\n",
       "   balloffootcircumference  balloffootlength  biacromialbreadth  \\\n",
       "0                      222               177                373   \n",
       "1                      225               178                372   \n",
       "2                      237               196                397   \n",
       "3                      240               188                384   \n",
       "4                      217               182                378   \n",
       "\n",
       "   bicepscircumferenceflexed  ...                  Branch  PrimaryMOS  \\\n",
       "0                        315  ...          Combat Support         92Y   \n",
       "1                        272  ...  Combat Service Support         25U   \n",
       "2                        300  ...  Combat Service Support         35D   \n",
       "3                        364  ...  Combat Service Support         25U   \n",
       "4                        320  ...             Combat Arms         42A   \n",
       "\n",
       "   SubjectsBirthLocation  SubjectNumericRace           Ethnicity  DODRace  \\\n",
       "0                Germany                   2                 NaN        2   \n",
       "1             California                   3             Mexican        3   \n",
       "2                  Texas                   1                 NaN        1   \n",
       "3   District of Columbia                   8  Caribbean Islander        2   \n",
       "4                  Texas                   1                 NaN        1   \n",
       "\n",
       "   Age  Heightin  Weightlbs  WritingPreference  \n",
       "0   26        61        142         Right hand  \n",
       "1   21        64        120         Right hand  \n",
       "2   23        68        147         Right hand  \n",
       "3   22        66        175         Right hand  \n",
       "4   45        63        195         Right hand  \n",
       "\n",
       "[5 rows x 108 columns]"
      ]
     },
     "execution_count": 143,
     "metadata": {},
     "output_type": "execute_result"
    }
   ],
   "source": [
    "df_female.head()"
   ]
  },
  {
   "cell_type": "code",
   "execution_count": 144,
   "metadata": {},
   "outputs": [],
   "source": [
    "df_female.rename(columns={\"SubjectId\":\"subjectid\"},inplace=True)"
   ]
  },
  {
   "cell_type": "code",
   "execution_count": 145,
   "metadata": {
    "colab": {
     "base_uri": "https://localhost:8080/"
    },
    "id": "5i_90mkro-gF",
    "outputId": "018a9e5b-bb7c-4263-908c-49bd80fb5c7e"
   },
   "outputs": [
    {
     "data": {
      "text/plain": [
       "(4082, 108)"
      ]
     },
     "execution_count": 145,
     "metadata": {},
     "output_type": "execute_result"
    }
   ],
   "source": [
    "df_male.shape"
   ]
  },
  {
   "cell_type": "code",
   "execution_count": 146,
   "metadata": {
    "colab": {
     "base_uri": "https://localhost:8080/"
    },
    "id": "vXwNCUL1o-ix",
    "outputId": "a3a1430d-44a2-4cf7-ad37-eb828f09d0a4"
   },
   "outputs": [
    {
     "data": {
      "text/plain": [
       "(1986, 108)"
      ]
     },
     "execution_count": 146,
     "metadata": {},
     "output_type": "execute_result"
    }
   ],
   "source": [
    "df_female.shape"
   ]
  },
  {
   "cell_type": "code",
   "execution_count": 147,
   "metadata": {
    "colab": {
     "base_uri": "https://localhost:8080/",
     "height": 299
    },
    "id": "UAx3wZXvo-lo",
    "outputId": "932feacb-56e6-40b5-9609-e65fba33836c"
   },
   "outputs": [
    {
     "data": {
      "text/html": [
       "<div>\n",
       "<style scoped>\n",
       "    .dataframe tbody tr th:only-of-type {\n",
       "        vertical-align: middle;\n",
       "    }\n",
       "\n",
       "    .dataframe tbody tr th {\n",
       "        vertical-align: top;\n",
       "    }\n",
       "\n",
       "    .dataframe thead th {\n",
       "        text-align: right;\n",
       "    }\n",
       "</style>\n",
       "<table border=\"1\" class=\"dataframe\">\n",
       "  <thead>\n",
       "    <tr style=\"text-align: right;\">\n",
       "      <th></th>\n",
       "      <th>subjectid</th>\n",
       "      <th>abdominalextensiondepthsitting</th>\n",
       "      <th>acromialheight</th>\n",
       "      <th>acromionradialelength</th>\n",
       "      <th>anklecircumference</th>\n",
       "      <th>axillaheight</th>\n",
       "      <th>balloffootcircumference</th>\n",
       "      <th>balloffootlength</th>\n",
       "      <th>biacromialbreadth</th>\n",
       "      <th>bicepscircumferenceflexed</th>\n",
       "      <th>...</th>\n",
       "      <th>Branch</th>\n",
       "      <th>PrimaryMOS</th>\n",
       "      <th>SubjectsBirthLocation</th>\n",
       "      <th>SubjectNumericRace</th>\n",
       "      <th>Ethnicity</th>\n",
       "      <th>DODRace</th>\n",
       "      <th>Age</th>\n",
       "      <th>Heightin</th>\n",
       "      <th>Weightlbs</th>\n",
       "      <th>WritingPreference</th>\n",
       "    </tr>\n",
       "  </thead>\n",
       "  <tbody>\n",
       "    <tr>\n",
       "      <th>0</th>\n",
       "      <td>10027</td>\n",
       "      <td>266</td>\n",
       "      <td>1467</td>\n",
       "      <td>337</td>\n",
       "      <td>222</td>\n",
       "      <td>1347</td>\n",
       "      <td>253</td>\n",
       "      <td>202</td>\n",
       "      <td>401</td>\n",
       "      <td>369</td>\n",
       "      <td>...</td>\n",
       "      <td>Combat Arms</td>\n",
       "      <td>19D</td>\n",
       "      <td>North Dakota</td>\n",
       "      <td>1</td>\n",
       "      <td>NaN</td>\n",
       "      <td>1</td>\n",
       "      <td>41</td>\n",
       "      <td>71</td>\n",
       "      <td>180</td>\n",
       "      <td>Right hand</td>\n",
       "    </tr>\n",
       "    <tr>\n",
       "      <th>1</th>\n",
       "      <td>10032</td>\n",
       "      <td>233</td>\n",
       "      <td>1395</td>\n",
       "      <td>326</td>\n",
       "      <td>220</td>\n",
       "      <td>1293</td>\n",
       "      <td>245</td>\n",
       "      <td>193</td>\n",
       "      <td>394</td>\n",
       "      <td>338</td>\n",
       "      <td>...</td>\n",
       "      <td>Combat Support</td>\n",
       "      <td>68W</td>\n",
       "      <td>New York</td>\n",
       "      <td>1</td>\n",
       "      <td>NaN</td>\n",
       "      <td>1</td>\n",
       "      <td>35</td>\n",
       "      <td>68</td>\n",
       "      <td>160</td>\n",
       "      <td>Left hand</td>\n",
       "    </tr>\n",
       "    <tr>\n",
       "      <th>2</th>\n",
       "      <td>10033</td>\n",
       "      <td>287</td>\n",
       "      <td>1430</td>\n",
       "      <td>341</td>\n",
       "      <td>230</td>\n",
       "      <td>1327</td>\n",
       "      <td>256</td>\n",
       "      <td>196</td>\n",
       "      <td>427</td>\n",
       "      <td>408</td>\n",
       "      <td>...</td>\n",
       "      <td>Combat Support</td>\n",
       "      <td>68W</td>\n",
       "      <td>New York</td>\n",
       "      <td>2</td>\n",
       "      <td>NaN</td>\n",
       "      <td>2</td>\n",
       "      <td>42</td>\n",
       "      <td>68</td>\n",
       "      <td>205</td>\n",
       "      <td>Left hand</td>\n",
       "    </tr>\n",
       "    <tr>\n",
       "      <th>3</th>\n",
       "      <td>10092</td>\n",
       "      <td>234</td>\n",
       "      <td>1347</td>\n",
       "      <td>310</td>\n",
       "      <td>230</td>\n",
       "      <td>1239</td>\n",
       "      <td>262</td>\n",
       "      <td>199</td>\n",
       "      <td>401</td>\n",
       "      <td>359</td>\n",
       "      <td>...</td>\n",
       "      <td>Combat Service Support</td>\n",
       "      <td>88M</td>\n",
       "      <td>Wisconsin</td>\n",
       "      <td>1</td>\n",
       "      <td>NaN</td>\n",
       "      <td>1</td>\n",
       "      <td>31</td>\n",
       "      <td>66</td>\n",
       "      <td>175</td>\n",
       "      <td>Right hand</td>\n",
       "    </tr>\n",
       "    <tr>\n",
       "      <th>4</th>\n",
       "      <td>10093</td>\n",
       "      <td>250</td>\n",
       "      <td>1585</td>\n",
       "      <td>372</td>\n",
       "      <td>247</td>\n",
       "      <td>1478</td>\n",
       "      <td>267</td>\n",
       "      <td>224</td>\n",
       "      <td>435</td>\n",
       "      <td>356</td>\n",
       "      <td>...</td>\n",
       "      <td>Combat Service Support</td>\n",
       "      <td>92G</td>\n",
       "      <td>North Carolina</td>\n",
       "      <td>2</td>\n",
       "      <td>NaN</td>\n",
       "      <td>2</td>\n",
       "      <td>21</td>\n",
       "      <td>77</td>\n",
       "      <td>213</td>\n",
       "      <td>Right hand</td>\n",
       "    </tr>\n",
       "  </tbody>\n",
       "</table>\n",
       "<p>5 rows × 108 columns</p>\n",
       "</div>"
      ],
      "text/plain": [
       "   subjectid  abdominalextensiondepthsitting  acromialheight  \\\n",
       "0      10027                             266            1467   \n",
       "1      10032                             233            1395   \n",
       "2      10033                             287            1430   \n",
       "3      10092                             234            1347   \n",
       "4      10093                             250            1585   \n",
       "\n",
       "   acromionradialelength  anklecircumference  axillaheight  \\\n",
       "0                    337                 222          1347   \n",
       "1                    326                 220          1293   \n",
       "2                    341                 230          1327   \n",
       "3                    310                 230          1239   \n",
       "4                    372                 247          1478   \n",
       "\n",
       "   balloffootcircumference  balloffootlength  biacromialbreadth  \\\n",
       "0                      253               202                401   \n",
       "1                      245               193                394   \n",
       "2                      256               196                427   \n",
       "3                      262               199                401   \n",
       "4                      267               224                435   \n",
       "\n",
       "   bicepscircumferenceflexed  ...                  Branch  PrimaryMOS  \\\n",
       "0                        369  ...             Combat Arms         19D   \n",
       "1                        338  ...          Combat Support         68W   \n",
       "2                        408  ...          Combat Support         68W   \n",
       "3                        359  ...  Combat Service Support         88M   \n",
       "4                        356  ...  Combat Service Support         92G   \n",
       "\n",
       "   SubjectsBirthLocation  SubjectNumericRace  Ethnicity  DODRace  Age  \\\n",
       "0           North Dakota                   1        NaN        1   41   \n",
       "1               New York                   1        NaN        1   35   \n",
       "2               New York                   2        NaN        2   42   \n",
       "3              Wisconsin                   1        NaN        1   31   \n",
       "4         North Carolina                   2        NaN        2   21   \n",
       "\n",
       "   Heightin  Weightlbs  WritingPreference  \n",
       "0        71        180         Right hand  \n",
       "1        68        160          Left hand  \n",
       "2        68        205          Left hand  \n",
       "3        66        175         Right hand  \n",
       "4        77        213         Right hand  \n",
       "\n",
       "[5 rows x 108 columns]"
      ]
     },
     "execution_count": 147,
     "metadata": {},
     "output_type": "execute_result"
    }
   ],
   "source": [
    "df =pd.concat([df_male, df_female], axis=0, ignore_index=True)\n",
    "df.head()"
   ]
  },
  {
   "cell_type": "code",
   "execution_count": 148,
   "metadata": {
    "colab": {
     "base_uri": "https://localhost:8080/"
    },
    "id": "eHiu3DL4o-o4",
    "outputId": "c320ca97-9cb3-413f-e6c3-70d4c904fc43"
   },
   "outputs": [
    {
     "data": {
      "text/plain": [
       "(6068, 108)"
      ]
     },
     "execution_count": 148,
     "metadata": {},
     "output_type": "execute_result"
    }
   ],
   "source": [
    "df.shape"
   ]
  },
  {
   "cell_type": "code",
   "execution_count": 149,
   "metadata": {
    "colab": {
     "base_uri": "https://localhost:8080/"
    },
    "id": "CZtwfb7prYMH",
    "outputId": "f90c1e9b-b1c3-4a18-d6a1-469407d3cdc4",
    "scrolled": true
   },
   "outputs": [
    {
     "name": "stdout",
     "output_type": "stream",
     "text": [
      "<class 'pandas.core.frame.DataFrame'>\n",
      "RangeIndex: 6068 entries, 0 to 6067\n",
      "Data columns (total 108 columns):\n",
      " #    Column                          Dtype \n",
      "---   ------                          ----- \n",
      " 0    subjectid                       int64 \n",
      " 1    abdominalextensiondepthsitting  int64 \n",
      " 2    acromialheight                  int64 \n",
      " 3    acromionradialelength           int64 \n",
      " 4    anklecircumference              int64 \n",
      " 5    axillaheight                    int64 \n",
      " 6    balloffootcircumference         int64 \n",
      " 7    balloffootlength                int64 \n",
      " 8    biacromialbreadth               int64 \n",
      " 9    bicepscircumferenceflexed       int64 \n",
      " 10   bicristalbreadth                int64 \n",
      " 11   bideltoidbreadth                int64 \n",
      " 12   bimalleolarbreadth              int64 \n",
      " 13   bitragionchinarc                int64 \n",
      " 14   bitragionsubmandibulararc       int64 \n",
      " 15   bizygomaticbreadth              int64 \n",
      " 16   buttockcircumference            int64 \n",
      " 17   buttockdepth                    int64 \n",
      " 18   buttockheight                   int64 \n",
      " 19   buttockkneelength               int64 \n",
      " 20   buttockpopliteallength          int64 \n",
      " 21   calfcircumference               int64 \n",
      " 22   cervicaleheight                 int64 \n",
      " 23   chestbreadth                    int64 \n",
      " 24   chestcircumference              int64 \n",
      " 25   chestdepth                      int64 \n",
      " 26   chestheight                     int64 \n",
      " 27   crotchheight                    int64 \n",
      " 28   crotchlengthomphalion           int64 \n",
      " 29   crotchlengthposterioromphalion  int64 \n",
      " 30   earbreadth                      int64 \n",
      " 31   earlength                       int64 \n",
      " 32   earprotrusion                   int64 \n",
      " 33   elbowrestheight                 int64 \n",
      " 34   eyeheightsitting                int64 \n",
      " 35   footbreadthhorizontal           int64 \n",
      " 36   footlength                      int64 \n",
      " 37   forearmcenterofgriplength       int64 \n",
      " 38   forearmcircumferenceflexed      int64 \n",
      " 39   forearmforearmbreadth           int64 \n",
      " 40   forearmhandlength               int64 \n",
      " 41   functionalleglength             int64 \n",
      " 42   handbreadth                     int64 \n",
      " 43   handcircumference               int64 \n",
      " 44   handlength                      int64 \n",
      " 45   headbreadth                     int64 \n",
      " 46   headcircumference               int64 \n",
      " 47   headlength                      int64 \n",
      " 48   heelanklecircumference          int64 \n",
      " 49   heelbreadth                     int64 \n",
      " 50   hipbreadth                      int64 \n",
      " 51   hipbreadthsitting               int64 \n",
      " 52   iliocristaleheight              int64 \n",
      " 53   interpupillarybreadth           int64 \n",
      " 54   interscyei                      int64 \n",
      " 55   interscyeii                     int64 \n",
      " 56   kneeheightmidpatella            int64 \n",
      " 57   kneeheightsitting               int64 \n",
      " 58   lateralfemoralepicondyleheight  int64 \n",
      " 59   lateralmalleolusheight          int64 \n",
      " 60   lowerthighcircumference         int64 \n",
      " 61   mentonsellionlength             int64 \n",
      " 62   neckcircumference               int64 \n",
      " 63   neckcircumferencebase           int64 \n",
      " 64   overheadfingertipreachsitting   int64 \n",
      " 65   palmlength                      int64 \n",
      " 66   poplitealheight                 int64 \n",
      " 67   radialestylionlength            int64 \n",
      " 68   shouldercircumference           int64 \n",
      " 69   shoulderelbowlength             int64 \n",
      " 70   shoulderlength                  int64 \n",
      " 71   sittingheight                   int64 \n",
      " 72   sleevelengthspinewrist          int64 \n",
      " 73   sleeveoutseam                   int64 \n",
      " 74   span                            int64 \n",
      " 75   stature                         int64 \n",
      " 76   suprasternaleheight             int64 \n",
      " 77   tenthribheight                  int64 \n",
      " 78   thighcircumference              int64 \n",
      " 79   thighclearance                  int64 \n",
      " 80   thumbtipreach                   int64 \n",
      " 81   tibialheight                    int64 \n",
      " 82   tragiontopofhead                int64 \n",
      " 83   trochanterionheight             int64 \n",
      " 84   verticaltrunkcircumferenceusa   int64 \n",
      " 85   waistbacklength                 int64 \n",
      " 86   waistbreadth                    int64 \n",
      " 87   waistcircumference              int64 \n",
      " 88   waistdepth                      int64 \n",
      " 89   waistfrontlengthsitting         int64 \n",
      " 90   waistheightomphalion            int64 \n",
      " 91   weightkg                        int64 \n",
      " 92   wristcircumference              int64 \n",
      " 93   wristheight                     int64 \n",
      " 94   Gender                          object\n",
      " 95   Date                            object\n",
      " 96   Installation                    object\n",
      " 97   Component                       object\n",
      " 98   Branch                          object\n",
      " 99   PrimaryMOS                      object\n",
      " 100  SubjectsBirthLocation           object\n",
      " 101  SubjectNumericRace              int64 \n",
      " 102  Ethnicity                       object\n",
      " 103  DODRace                         int64 \n",
      " 104  Age                             int64 \n",
      " 105  Heightin                        int64 \n",
      " 106  Weightlbs                       int64 \n",
      " 107  WritingPreference               object\n",
      "dtypes: int64(99), object(9)\n",
      "memory usage: 5.0+ MB\n"
     ]
    }
   ],
   "source": [
    "df.info(verbose=True)"
   ]
  },
  {
   "cell_type": "code",
   "execution_count": 150,
   "metadata": {
    "colab": {
     "base_uri": "https://localhost:8080/",
     "height": 394
    },
    "id": "0S9fg5ocrYT9",
    "outputId": "da666cdf-a6d8-486c-e3f9-ee0ba6aa2ec0"
   },
   "outputs": [
    {
     "data": {
      "text/html": [
       "<div>\n",
       "<style scoped>\n",
       "    .dataframe tbody tr th:only-of-type {\n",
       "        vertical-align: middle;\n",
       "    }\n",
       "\n",
       "    .dataframe tbody tr th {\n",
       "        vertical-align: top;\n",
       "    }\n",
       "\n",
       "    .dataframe thead th {\n",
       "        text-align: right;\n",
       "    }\n",
       "</style>\n",
       "<table border=\"1\" class=\"dataframe\">\n",
       "  <thead>\n",
       "    <tr style=\"text-align: right;\">\n",
       "      <th></th>\n",
       "      <th>subjectid</th>\n",
       "      <th>abdominalextensiondepthsitting</th>\n",
       "      <th>acromialheight</th>\n",
       "      <th>acromionradialelength</th>\n",
       "      <th>anklecircumference</th>\n",
       "      <th>axillaheight</th>\n",
       "      <th>balloffootcircumference</th>\n",
       "      <th>balloffootlength</th>\n",
       "      <th>biacromialbreadth</th>\n",
       "      <th>bicepscircumferenceflexed</th>\n",
       "      <th>...</th>\n",
       "      <th>waistfrontlengthsitting</th>\n",
       "      <th>waistheightomphalion</th>\n",
       "      <th>weightkg</th>\n",
       "      <th>wristcircumference</th>\n",
       "      <th>wristheight</th>\n",
       "      <th>SubjectNumericRace</th>\n",
       "      <th>DODRace</th>\n",
       "      <th>Age</th>\n",
       "      <th>Heightin</th>\n",
       "      <th>Weightlbs</th>\n",
       "    </tr>\n",
       "  </thead>\n",
       "  <tbody>\n",
       "    <tr>\n",
       "      <th>count</th>\n",
       "      <td>6068.000000</td>\n",
       "      <td>6068.000000</td>\n",
       "      <td>6068.000000</td>\n",
       "      <td>6068.000000</td>\n",
       "      <td>6068.000000</td>\n",
       "      <td>6068.000000</td>\n",
       "      <td>6068.00000</td>\n",
       "      <td>6068.000000</td>\n",
       "      <td>6068.000000</td>\n",
       "      <td>6068.000000</td>\n",
       "      <td>...</td>\n",
       "      <td>6068.000000</td>\n",
       "      <td>6068.000000</td>\n",
       "      <td>6068.000000</td>\n",
       "      <td>6068.000000</td>\n",
       "      <td>6068.000000</td>\n",
       "      <td>6068.000000</td>\n",
       "      <td>6068.000000</td>\n",
       "      <td>6068.000000</td>\n",
       "      <td>6068.000000</td>\n",
       "      <td>6068.000000</td>\n",
       "    </tr>\n",
       "    <tr>\n",
       "      <th>mean</th>\n",
       "      <td>20757.198418</td>\n",
       "      <td>246.468688</td>\n",
       "      <td>1406.161338</td>\n",
       "      <td>327.374423</td>\n",
       "      <td>224.891397</td>\n",
       "      <td>1299.608767</td>\n",
       "      <td>244.19265</td>\n",
       "      <td>194.754614</td>\n",
       "      <td>399.204186</td>\n",
       "      <td>340.934245</td>\n",
       "      <td>...</td>\n",
       "      <td>377.003790</td>\n",
       "      <td>1031.501154</td>\n",
       "      <td>797.093935</td>\n",
       "      <td>169.002966</td>\n",
       "      <td>830.059987</td>\n",
       "      <td>17.515326</td>\n",
       "      <td>1.615030</td>\n",
       "      <td>29.761206</td>\n",
       "      <td>68.257251</td>\n",
       "      <td>174.749670</td>\n",
       "    </tr>\n",
       "    <tr>\n",
       "      <th>std</th>\n",
       "      <td>13159.390894</td>\n",
       "      <td>37.400106</td>\n",
       "      <td>79.091048</td>\n",
       "      <td>20.720018</td>\n",
       "      <td>16.051833</td>\n",
       "      <td>72.022286</td>\n",
       "      <td>16.84502</td>\n",
       "      <td>13.516368</td>\n",
       "      <td>30.236914</td>\n",
       "      <td>41.519866</td>\n",
       "      <td>...</td>\n",
       "      <td>31.617723</td>\n",
       "      <td>62.702388</td>\n",
       "      <td>156.528164</td>\n",
       "      <td>13.124513</td>\n",
       "      <td>47.650519</td>\n",
       "      <td>550.949948</td>\n",
       "      <td>0.979156</td>\n",
       "      <td>8.674650</td>\n",
       "      <td>3.861954</td>\n",
       "      <td>33.691952</td>\n",
       "    </tr>\n",
       "    <tr>\n",
       "      <th>min</th>\n",
       "      <td>10027.000000</td>\n",
       "      <td>155.000000</td>\n",
       "      <td>1115.000000</td>\n",
       "      <td>249.000000</td>\n",
       "      <td>156.000000</td>\n",
       "      <td>1038.000000</td>\n",
       "      <td>186.00000</td>\n",
       "      <td>151.000000</td>\n",
       "      <td>283.000000</td>\n",
       "      <td>216.000000</td>\n",
       "      <td>...</td>\n",
       "      <td>289.000000</td>\n",
       "      <td>805.000000</td>\n",
       "      <td>358.000000</td>\n",
       "      <td>124.000000</td>\n",
       "      <td>672.000000</td>\n",
       "      <td>1.000000</td>\n",
       "      <td>1.000000</td>\n",
       "      <td>17.000000</td>\n",
       "      <td>56.000000</td>\n",
       "      <td>0.000000</td>\n",
       "    </tr>\n",
       "    <tr>\n",
       "      <th>25%</th>\n",
       "      <td>14841.750000</td>\n",
       "      <td>219.000000</td>\n",
       "      <td>1350.000000</td>\n",
       "      <td>313.000000</td>\n",
       "      <td>214.000000</td>\n",
       "      <td>1249.000000</td>\n",
       "      <td>232.00000</td>\n",
       "      <td>185.000000</td>\n",
       "      <td>376.000000</td>\n",
       "      <td>311.000000</td>\n",
       "      <td>...</td>\n",
       "      <td>355.000000</td>\n",
       "      <td>988.000000</td>\n",
       "      <td>682.000000</td>\n",
       "      <td>159.000000</td>\n",
       "      <td>797.000000</td>\n",
       "      <td>1.000000</td>\n",
       "      <td>1.000000</td>\n",
       "      <td>23.000000</td>\n",
       "      <td>66.000000</td>\n",
       "      <td>150.000000</td>\n",
       "    </tr>\n",
       "    <tr>\n",
       "      <th>50%</th>\n",
       "      <td>20063.500000</td>\n",
       "      <td>242.000000</td>\n",
       "      <td>1410.000000</td>\n",
       "      <td>328.000000</td>\n",
       "      <td>225.000000</td>\n",
       "      <td>1302.000000</td>\n",
       "      <td>245.00000</td>\n",
       "      <td>195.000000</td>\n",
       "      <td>404.000000</td>\n",
       "      <td>341.000000</td>\n",
       "      <td>...</td>\n",
       "      <td>375.000000</td>\n",
       "      <td>1033.000000</td>\n",
       "      <td>785.000000</td>\n",
       "      <td>170.000000</td>\n",
       "      <td>830.000000</td>\n",
       "      <td>1.000000</td>\n",
       "      <td>1.000000</td>\n",
       "      <td>28.000000</td>\n",
       "      <td>68.000000</td>\n",
       "      <td>173.000000</td>\n",
       "    </tr>\n",
       "    <tr>\n",
       "      <th>75%</th>\n",
       "      <td>27234.500000</td>\n",
       "      <td>271.000000</td>\n",
       "      <td>1462.000000</td>\n",
       "      <td>341.250000</td>\n",
       "      <td>235.000000</td>\n",
       "      <td>1349.000000</td>\n",
       "      <td>256.00000</td>\n",
       "      <td>204.000000</td>\n",
       "      <td>421.000000</td>\n",
       "      <td>370.000000</td>\n",
       "      <td>...</td>\n",
       "      <td>398.000000</td>\n",
       "      <td>1076.000000</td>\n",
       "      <td>896.000000</td>\n",
       "      <td>179.000000</td>\n",
       "      <td>863.000000</td>\n",
       "      <td>2.000000</td>\n",
       "      <td>2.000000</td>\n",
       "      <td>36.000000</td>\n",
       "      <td>71.000000</td>\n",
       "      <td>196.000000</td>\n",
       "    </tr>\n",
       "    <tr>\n",
       "      <th>max</th>\n",
       "      <td>920103.000000</td>\n",
       "      <td>451.000000</td>\n",
       "      <td>1683.000000</td>\n",
       "      <td>393.000000</td>\n",
       "      <td>293.000000</td>\n",
       "      <td>1553.000000</td>\n",
       "      <td>306.00000</td>\n",
       "      <td>245.000000</td>\n",
       "      <td>489.000000</td>\n",
       "      <td>490.000000</td>\n",
       "      <td>...</td>\n",
       "      <td>494.000000</td>\n",
       "      <td>1245.000000</td>\n",
       "      <td>1442.000000</td>\n",
       "      <td>216.000000</td>\n",
       "      <td>1009.000000</td>\n",
       "      <td>42351.000000</td>\n",
       "      <td>8.000000</td>\n",
       "      <td>58.000000</td>\n",
       "      <td>94.000000</td>\n",
       "      <td>321.000000</td>\n",
       "    </tr>\n",
       "  </tbody>\n",
       "</table>\n",
       "<p>8 rows × 99 columns</p>\n",
       "</div>"
      ],
      "text/plain": [
       "           subjectid  abdominalextensiondepthsitting  acromialheight  \\\n",
       "count    6068.000000                     6068.000000     6068.000000   \n",
       "mean    20757.198418                      246.468688     1406.161338   \n",
       "std     13159.390894                       37.400106       79.091048   \n",
       "min     10027.000000                      155.000000     1115.000000   \n",
       "25%     14841.750000                      219.000000     1350.000000   \n",
       "50%     20063.500000                      242.000000     1410.000000   \n",
       "75%     27234.500000                      271.000000     1462.000000   \n",
       "max    920103.000000                      451.000000     1683.000000   \n",
       "\n",
       "       acromionradialelength  anklecircumference  axillaheight  \\\n",
       "count            6068.000000         6068.000000   6068.000000   \n",
       "mean              327.374423          224.891397   1299.608767   \n",
       "std                20.720018           16.051833     72.022286   \n",
       "min               249.000000          156.000000   1038.000000   \n",
       "25%               313.000000          214.000000   1249.000000   \n",
       "50%               328.000000          225.000000   1302.000000   \n",
       "75%               341.250000          235.000000   1349.000000   \n",
       "max               393.000000          293.000000   1553.000000   \n",
       "\n",
       "       balloffootcircumference  balloffootlength  biacromialbreadth  \\\n",
       "count               6068.00000       6068.000000        6068.000000   \n",
       "mean                 244.19265        194.754614         399.204186   \n",
       "std                   16.84502         13.516368          30.236914   \n",
       "min                  186.00000        151.000000         283.000000   \n",
       "25%                  232.00000        185.000000         376.000000   \n",
       "50%                  245.00000        195.000000         404.000000   \n",
       "75%                  256.00000        204.000000         421.000000   \n",
       "max                  306.00000        245.000000         489.000000   \n",
       "\n",
       "       bicepscircumferenceflexed  ...  waistfrontlengthsitting  \\\n",
       "count                6068.000000  ...              6068.000000   \n",
       "mean                  340.934245  ...               377.003790   \n",
       "std                    41.519866  ...                31.617723   \n",
       "min                   216.000000  ...               289.000000   \n",
       "25%                   311.000000  ...               355.000000   \n",
       "50%                   341.000000  ...               375.000000   \n",
       "75%                   370.000000  ...               398.000000   \n",
       "max                   490.000000  ...               494.000000   \n",
       "\n",
       "       waistheightomphalion     weightkg  wristcircumference  wristheight  \\\n",
       "count           6068.000000  6068.000000         6068.000000  6068.000000   \n",
       "mean            1031.501154   797.093935          169.002966   830.059987   \n",
       "std               62.702388   156.528164           13.124513    47.650519   \n",
       "min              805.000000   358.000000          124.000000   672.000000   \n",
       "25%              988.000000   682.000000          159.000000   797.000000   \n",
       "50%             1033.000000   785.000000          170.000000   830.000000   \n",
       "75%             1076.000000   896.000000          179.000000   863.000000   \n",
       "max             1245.000000  1442.000000          216.000000  1009.000000   \n",
       "\n",
       "       SubjectNumericRace      DODRace          Age     Heightin    Weightlbs  \n",
       "count         6068.000000  6068.000000  6068.000000  6068.000000  6068.000000  \n",
       "mean            17.515326     1.615030    29.761206    68.257251   174.749670  \n",
       "std            550.949948     0.979156     8.674650     3.861954    33.691952  \n",
       "min              1.000000     1.000000    17.000000    56.000000     0.000000  \n",
       "25%              1.000000     1.000000    23.000000    66.000000   150.000000  \n",
       "50%              1.000000     1.000000    28.000000    68.000000   173.000000  \n",
       "75%              2.000000     2.000000    36.000000    71.000000   196.000000  \n",
       "max          42351.000000     8.000000    58.000000    94.000000   321.000000  \n",
       "\n",
       "[8 rows x 99 columns]"
      ]
     },
     "execution_count": 150,
     "metadata": {},
     "output_type": "execute_result"
    }
   ],
   "source": [
    "df.describe()"
   ]
  },
  {
   "cell_type": "code",
   "execution_count": 151,
   "metadata": {
    "id": "tIEXJ4Y_tHVz"
   },
   "outputs": [
    {
     "data": {
      "text/plain": [
       "True"
      ]
     },
     "execution_count": 151,
     "metadata": {},
     "output_type": "execute_result"
    }
   ],
   "source": [
    "df.isnull().sum().any()"
   ]
  },
  {
   "cell_type": "code",
   "execution_count": 152,
   "metadata": {
    "id": "ZcOJQ6oetHZQ"
   },
   "outputs": [
    {
     "data": {
      "text/plain": [
       "0"
      ]
     },
     "execution_count": 152,
     "metadata": {},
     "output_type": "execute_result"
    }
   ],
   "source": [
    "df.duplicated().sum()"
   ]
  },
  {
   "cell_type": "code",
   "execution_count": 153,
   "metadata": {},
   "outputs": [
    {
     "data": {
      "text/plain": [
       "Ethnicity                         4647\n",
       "subjectid                            0\n",
       "radialestylionlength                 0\n",
       "thighcircumference                   0\n",
       "tenthribheight                       0\n",
       "                                  ... \n",
       "earprotrusion                        0\n",
       "earlength                            0\n",
       "earbreadth                           0\n",
       "crotchlengthposterioromphalion       0\n",
       "WritingPreference                    0\n",
       "Length: 108, dtype: int64"
      ]
     },
     "execution_count": 153,
     "metadata": {},
     "output_type": "execute_result"
    }
   ],
   "source": [
    "df.isnull().sum().sort_values(ascending=False)"
   ]
  },
  {
   "cell_type": "code",
   "execution_count": 154,
   "metadata": {},
   "outputs": [
    {
     "data": {
      "text/plain": [
       "1    3792\n",
       "2    1298\n",
       "3     679\n",
       "4     188\n",
       "6      59\n",
       "5      49\n",
       "8       3\n",
       "Name: DODRace, dtype: int64"
      ]
     },
     "execution_count": 154,
     "metadata": {},
     "output_type": "execute_result"
    }
   ],
   "source": [
    "df[\"DODRace\"].value_counts()"
   ]
  },
  {
   "cell_type": "code",
   "execution_count": 155,
   "metadata": {},
   "outputs": [
    {
     "data": {
      "text/plain": [
       "1    0.624918\n",
       "2    0.213909\n",
       "3    0.111898\n",
       "4    0.030982\n",
       "6    0.009723\n",
       "5    0.008075\n",
       "8    0.000494\n",
       "Name: DODRace, dtype: float64"
      ]
     },
     "execution_count": 155,
     "metadata": {},
     "output_type": "execute_result"
    }
   ],
   "source": [
    "df[\"DODRace\"].value_counts(normalize=True)"
   ]
  },
  {
   "cell_type": "code",
   "execution_count": 156,
   "metadata": {},
   "outputs": [
    {
     "data": {
      "image/png": "[encoded data removed]",
      "text/plain": [
       "<Figure size 720x720 with 1 Axes>"
      ]
     },
     "metadata": {},
     "output_type": "display_data"
    }
   ],
   "source": [
    "plt.figure(figsize=(10,10))\n",
    "df[\"DODRace\"].value_counts(normalize=True).plot(kind=\"pie\", autopct=\"%%%.1f\");"
   ]
  },
  {
   "cell_type": "code",
   "execution_count": 157,
   "metadata": {},
   "outputs": [
    {
     "data": {
      "image/png": "[encoded data removed]",
      "text/plain": [
       "<Figure size 504x288 with 1 Axes>"
      ]
     },
     "metadata": {
      "needs_background": "light"
     },
     "output_type": "display_data"
    }
   ],
   "source": [
    "ax = sns.countplot(x=\"DODRace\", data=df)\n",
    "ax.bar_label(ax.containers[0]);"
   ]
  },
  {
   "cell_type": "code",
   "execution_count": 158,
   "metadata": {},
   "outputs": [],
   "source": [
    "df.drop(columns=\"Ethnicity\", inplace=True)"
   ]
  },
  {
   "cell_type": "code",
   "execution_count": 159,
   "metadata": {},
   "outputs": [
    {
     "data": {
      "text/plain": [
       "False"
      ]
     },
     "execution_count": 159,
     "metadata": {},
     "output_type": "execute_result"
    }
   ],
   "source": [
    "df.isnull().sum().any()"
   ]
  },
  {
   "cell_type": "code",
   "execution_count": 160,
   "metadata": {},
   "outputs": [
    {
     "data": {
      "text/plain": [
       "(6068, 107)"
      ]
     },
     "execution_count": 160,
     "metadata": {},
     "output_type": "execute_result"
    }
   ],
   "source": [
    "df.shape"
   ]
  },
  {
   "cell_type": "code",
   "execution_count": 161,
   "metadata": {},
   "outputs": [
    {
     "name": "stdout",
     "output_type": "stream",
     "text": [
      "Gender has 2 unique value\n",
      "Date has 253 unique value\n",
      "Installation has 12 unique value\n",
      "Component has 3 unique value\n",
      "Branch has 3 unique value\n",
      "PrimaryMOS has 285 unique value\n",
      "SubjectsBirthLocation has 152 unique value\n",
      "WritingPreference has 3 unique value\n"
     ]
    }
   ],
   "source": [
    "for col in df.select_dtypes(\"object\"):\n",
    "  print(f\"{col} has {df[col].nunique()} unique value\")"
   ]
  },
  {
   "cell_type": "code",
   "execution_count": 162,
   "metadata": {},
   "outputs": [],
   "source": [
    "drop_col2 = [\"subjectid\",\"Date\",\"PrimaryMOS\",\"Branch\",\n",
    "            \"Component\", \"Weightlbs\", \"Heightin\", \"SubjectNumericRace\"]\n",
    "    "
   ]
  },
  {
   "cell_type": "code",
   "execution_count": 163,
   "metadata": {},
   "outputs": [],
   "source": [
    "df.drop(columns=drop_col2, inplace=True)"
   ]
  },
  {
   "cell_type": "code",
   "execution_count": 164,
   "metadata": {},
   "outputs": [],
   "source": [
    "drop_col3 =[\"Installation\"]"
   ]
  },
  {
   "cell_type": "code",
   "execution_count": 165,
   "metadata": {},
   "outputs": [],
   "source": [
    "df.drop(columns=drop_col3,inplace=True)"
   ]
  },
  {
   "cell_type": "code",
   "execution_count": 166,
   "metadata": {},
   "outputs": [
    {
     "data": {
      "text/plain": [
       "(6068, 98)"
      ]
     },
     "execution_count": 166,
     "metadata": {},
     "output_type": "execute_result"
    }
   ],
   "source": [
    "df.shape"
   ]
  },
  {
   "cell_type": "code",
   "execution_count": 167,
   "metadata": {},
   "outputs": [
    {
     "data": {
      "text/plain": [
       "1    3792\n",
       "2    1298\n",
       "3     679\n",
       "4     188\n",
       "6      59\n",
       "5      49\n",
       "8       3\n",
       "Name: DODRace, dtype: int64"
      ]
     },
     "execution_count": 167,
     "metadata": {},
     "output_type": "execute_result"
    }
   ],
   "source": [
    "df.DODRace.value_counts()"
   ]
  },
  {
   "cell_type": "code",
   "execution_count": 168,
   "metadata": {},
   "outputs": [
    {
     "data": {
      "text/plain": [
       "array([1, 2, 3, 4, 5, 6, 8], dtype=int64)"
      ]
     },
     "execution_count": 168,
     "metadata": {},
     "output_type": "execute_result"
    }
   ],
   "source": [
    "df.DODRace.unique()"
   ]
  },
  {
   "cell_type": "code",
   "execution_count": 169,
   "metadata": {},
   "outputs": [],
   "source": [
    "df[\"DODRace\"] = df.DODRace.map({1: \"White\", 2: \"Black\", 3: \"Hispanic\", 4: \"Asian\", 5: \"Native American\", 6: \"Pacific Islander\", 8: \"Other\"})"
   ]
  },
  {
   "cell_type": "code",
   "execution_count": 170,
   "metadata": {},
   "outputs": [
    {
     "data": {
      "text/plain": [
       "White               3792\n",
       "Black               1298\n",
       "Hispanic             679\n",
       "Asian                188\n",
       "Pacific Islander      59\n",
       "Native American       49\n",
       "Other                  3\n",
       "Name: DODRace, dtype: int64"
      ]
     },
     "execution_count": 170,
     "metadata": {},
     "output_type": "execute_result"
    }
   ],
   "source": [
    "df.DODRace.value_counts()"
   ]
  },
  {
   "cell_type": "code",
   "execution_count": 171,
   "metadata": {},
   "outputs": [
    {
     "data": {
      "text/html": [
       "<div>\n",
       "<style scoped>\n",
       "    .dataframe tbody tr th:only-of-type {\n",
       "        vertical-align: middle;\n",
       "    }\n",
       "\n",
       "    .dataframe tbody tr th {\n",
       "        vertical-align: top;\n",
       "    }\n",
       "\n",
       "    .dataframe thead th {\n",
       "        text-align: right;\n",
       "    }\n",
       "</style>\n",
       "<table border=\"1\" class=\"dataframe\">\n",
       "  <thead>\n",
       "    <tr style=\"text-align: right;\">\n",
       "      <th></th>\n",
       "      <th>abdominalextensiondepthsitting</th>\n",
       "      <th>acromialheight</th>\n",
       "      <th>acromionradialelength</th>\n",
       "      <th>anklecircumference</th>\n",
       "      <th>axillaheight</th>\n",
       "      <th>balloffootcircumference</th>\n",
       "      <th>balloffootlength</th>\n",
       "      <th>biacromialbreadth</th>\n",
       "      <th>bicepscircumferenceflexed</th>\n",
       "      <th>bicristalbreadth</th>\n",
       "      <th>...</th>\n",
       "      <th>waistfrontlengthsitting</th>\n",
       "      <th>waistheightomphalion</th>\n",
       "      <th>weightkg</th>\n",
       "      <th>wristcircumference</th>\n",
       "      <th>wristheight</th>\n",
       "      <th>Gender</th>\n",
       "      <th>SubjectsBirthLocation</th>\n",
       "      <th>DODRace</th>\n",
       "      <th>Age</th>\n",
       "      <th>WritingPreference</th>\n",
       "    </tr>\n",
       "  </thead>\n",
       "  <tbody>\n",
       "    <tr>\n",
       "      <th>0</th>\n",
       "      <td>266</td>\n",
       "      <td>1467</td>\n",
       "      <td>337</td>\n",
       "      <td>222</td>\n",
       "      <td>1347</td>\n",
       "      <td>253</td>\n",
       "      <td>202</td>\n",
       "      <td>401</td>\n",
       "      <td>369</td>\n",
       "      <td>274</td>\n",
       "      <td>...</td>\n",
       "      <td>440</td>\n",
       "      <td>1054</td>\n",
       "      <td>815</td>\n",
       "      <td>175</td>\n",
       "      <td>853</td>\n",
       "      <td>Male</td>\n",
       "      <td>North Dakota</td>\n",
       "      <td>White</td>\n",
       "      <td>41</td>\n",
       "      <td>Right hand</td>\n",
       "    </tr>\n",
       "    <tr>\n",
       "      <th>1</th>\n",
       "      <td>233</td>\n",
       "      <td>1395</td>\n",
       "      <td>326</td>\n",
       "      <td>220</td>\n",
       "      <td>1293</td>\n",
       "      <td>245</td>\n",
       "      <td>193</td>\n",
       "      <td>394</td>\n",
       "      <td>338</td>\n",
       "      <td>257</td>\n",
       "      <td>...</td>\n",
       "      <td>371</td>\n",
       "      <td>1054</td>\n",
       "      <td>726</td>\n",
       "      <td>167</td>\n",
       "      <td>815</td>\n",
       "      <td>Male</td>\n",
       "      <td>New York</td>\n",
       "      <td>White</td>\n",
       "      <td>35</td>\n",
       "      <td>Left hand</td>\n",
       "    </tr>\n",
       "    <tr>\n",
       "      <th>2</th>\n",
       "      <td>287</td>\n",
       "      <td>1430</td>\n",
       "      <td>341</td>\n",
       "      <td>230</td>\n",
       "      <td>1327</td>\n",
       "      <td>256</td>\n",
       "      <td>196</td>\n",
       "      <td>427</td>\n",
       "      <td>408</td>\n",
       "      <td>261</td>\n",
       "      <td>...</td>\n",
       "      <td>411</td>\n",
       "      <td>1041</td>\n",
       "      <td>929</td>\n",
       "      <td>180</td>\n",
       "      <td>831</td>\n",
       "      <td>Male</td>\n",
       "      <td>New York</td>\n",
       "      <td>Black</td>\n",
       "      <td>42</td>\n",
       "      <td>Left hand</td>\n",
       "    </tr>\n",
       "    <tr>\n",
       "      <th>3</th>\n",
       "      <td>234</td>\n",
       "      <td>1347</td>\n",
       "      <td>310</td>\n",
       "      <td>230</td>\n",
       "      <td>1239</td>\n",
       "      <td>262</td>\n",
       "      <td>199</td>\n",
       "      <td>401</td>\n",
       "      <td>359</td>\n",
       "      <td>262</td>\n",
       "      <td>...</td>\n",
       "      <td>399</td>\n",
       "      <td>968</td>\n",
       "      <td>794</td>\n",
       "      <td>176</td>\n",
       "      <td>793</td>\n",
       "      <td>Male</td>\n",
       "      <td>Wisconsin</td>\n",
       "      <td>White</td>\n",
       "      <td>31</td>\n",
       "      <td>Right hand</td>\n",
       "    </tr>\n",
       "    <tr>\n",
       "      <th>4</th>\n",
       "      <td>250</td>\n",
       "      <td>1585</td>\n",
       "      <td>372</td>\n",
       "      <td>247</td>\n",
       "      <td>1478</td>\n",
       "      <td>267</td>\n",
       "      <td>224</td>\n",
       "      <td>435</td>\n",
       "      <td>356</td>\n",
       "      <td>263</td>\n",
       "      <td>...</td>\n",
       "      <td>379</td>\n",
       "      <td>1245</td>\n",
       "      <td>946</td>\n",
       "      <td>188</td>\n",
       "      <td>954</td>\n",
       "      <td>Male</td>\n",
       "      <td>North Carolina</td>\n",
       "      <td>Black</td>\n",
       "      <td>21</td>\n",
       "      <td>Right hand</td>\n",
       "    </tr>\n",
       "    <tr>\n",
       "      <th>...</th>\n",
       "      <td>...</td>\n",
       "      <td>...</td>\n",
       "      <td>...</td>\n",
       "      <td>...</td>\n",
       "      <td>...</td>\n",
       "      <td>...</td>\n",
       "      <td>...</td>\n",
       "      <td>...</td>\n",
       "      <td>...</td>\n",
       "      <td>...</td>\n",
       "      <td>...</td>\n",
       "      <td>...</td>\n",
       "      <td>...</td>\n",
       "      <td>...</td>\n",
       "      <td>...</td>\n",
       "      <td>...</td>\n",
       "      <td>...</td>\n",
       "      <td>...</td>\n",
       "      <td>...</td>\n",
       "      <td>...</td>\n",
       "      <td>...</td>\n",
       "    </tr>\n",
       "    <tr>\n",
       "      <th>6063</th>\n",
       "      <td>285</td>\n",
       "      <td>1392</td>\n",
       "      <td>335</td>\n",
       "      <td>223</td>\n",
       "      <td>1297</td>\n",
       "      <td>252</td>\n",
       "      <td>196</td>\n",
       "      <td>368</td>\n",
       "      <td>299</td>\n",
       "      <td>312</td>\n",
       "      <td>...</td>\n",
       "      <td>370</td>\n",
       "      <td>1002</td>\n",
       "      <td>832</td>\n",
       "      <td>162</td>\n",
       "      <td>836</td>\n",
       "      <td>Female</td>\n",
       "      <td>Texas</td>\n",
       "      <td>Hispanic</td>\n",
       "      <td>51</td>\n",
       "      <td>Right hand</td>\n",
       "    </tr>\n",
       "    <tr>\n",
       "      <th>6064</th>\n",
       "      <td>262</td>\n",
       "      <td>1324</td>\n",
       "      <td>301</td>\n",
       "      <td>202</td>\n",
       "      <td>1204</td>\n",
       "      <td>236</td>\n",
       "      <td>181</td>\n",
       "      <td>378</td>\n",
       "      <td>294</td>\n",
       "      <td>287</td>\n",
       "      <td>...</td>\n",
       "      <td>374</td>\n",
       "      <td>958</td>\n",
       "      <td>717</td>\n",
       "      <td>157</td>\n",
       "      <td>804</td>\n",
       "      <td>Female</td>\n",
       "      <td>Texas</td>\n",
       "      <td>Hispanic</td>\n",
       "      <td>40</td>\n",
       "      <td>Right hand</td>\n",
       "    </tr>\n",
       "    <tr>\n",
       "      <th>6065</th>\n",
       "      <td>260</td>\n",
       "      <td>1334</td>\n",
       "      <td>318</td>\n",
       "      <td>213</td>\n",
       "      <td>1259</td>\n",
       "      <td>234</td>\n",
       "      <td>183</td>\n",
       "      <td>363</td>\n",
       "      <td>332</td>\n",
       "      <td>299</td>\n",
       "      <td>...</td>\n",
       "      <td>351</td>\n",
       "      <td>970</td>\n",
       "      <td>762</td>\n",
       "      <td>159</td>\n",
       "      <td>774</td>\n",
       "      <td>Female</td>\n",
       "      <td>Texas</td>\n",
       "      <td>Black</td>\n",
       "      <td>40</td>\n",
       "      <td>Right hand</td>\n",
       "    </tr>\n",
       "    <tr>\n",
       "      <th>6066</th>\n",
       "      <td>205</td>\n",
       "      <td>1293</td>\n",
       "      <td>302</td>\n",
       "      <td>199</td>\n",
       "      <td>1207</td>\n",
       "      <td>213</td>\n",
       "      <td>163</td>\n",
       "      <td>376</td>\n",
       "      <td>276</td>\n",
       "      <td>280</td>\n",
       "      <td>...</td>\n",
       "      <td>335</td>\n",
       "      <td>952</td>\n",
       "      <td>632</td>\n",
       "      <td>146</td>\n",
       "      <td>769</td>\n",
       "      <td>Female</td>\n",
       "      <td>Texas</td>\n",
       "      <td>Hispanic</td>\n",
       "      <td>31</td>\n",
       "      <td>Right hand</td>\n",
       "    </tr>\n",
       "    <tr>\n",
       "      <th>6067</th>\n",
       "      <td>238</td>\n",
       "      <td>1346</td>\n",
       "      <td>308</td>\n",
       "      <td>210</td>\n",
       "      <td>1256</td>\n",
       "      <td>236</td>\n",
       "      <td>188</td>\n",
       "      <td>361</td>\n",
       "      <td>285</td>\n",
       "      <td>279</td>\n",
       "      <td>...</td>\n",
       "      <td>394</td>\n",
       "      <td>943</td>\n",
       "      <td>610</td>\n",
       "      <td>154</td>\n",
       "      <td>797</td>\n",
       "      <td>Female</td>\n",
       "      <td>Texas</td>\n",
       "      <td>Hispanic</td>\n",
       "      <td>27</td>\n",
       "      <td>Right hand</td>\n",
       "    </tr>\n",
       "  </tbody>\n",
       "</table>\n",
       "<p>5769 rows × 98 columns</p>\n",
       "</div>"
      ],
      "text/plain": [
       "      abdominalextensiondepthsitting  acromialheight  acromionradialelength  \\\n",
       "0                                266            1467                    337   \n",
       "1                                233            1395                    326   \n",
       "2                                287            1430                    341   \n",
       "3                                234            1347                    310   \n",
       "4                                250            1585                    372   \n",
       "...                              ...             ...                    ...   \n",
       "6063                             285            1392                    335   \n",
       "6064                             262            1324                    301   \n",
       "6065                             260            1334                    318   \n",
       "6066                             205            1293                    302   \n",
       "6067                             238            1346                    308   \n",
       "\n",
       "      anklecircumference  axillaheight  balloffootcircumference  \\\n",
       "0                    222          1347                      253   \n",
       "1                    220          1293                      245   \n",
       "2                    230          1327                      256   \n",
       "3                    230          1239                      262   \n",
       "4                    247          1478                      267   \n",
       "...                  ...           ...                      ...   \n",
       "6063                 223          1297                      252   \n",
       "6064                 202          1204                      236   \n",
       "6065                 213          1259                      234   \n",
       "6066                 199          1207                      213   \n",
       "6067                 210          1256                      236   \n",
       "\n",
       "      balloffootlength  biacromialbreadth  bicepscircumferenceflexed  \\\n",
       "0                  202                401                        369   \n",
       "1                  193                394                        338   \n",
       "2                  196                427                        408   \n",
       "3                  199                401                        359   \n",
       "4                  224                435                        356   \n",
       "...                ...                ...                        ...   \n",
       "6063               196                368                        299   \n",
       "6064               181                378                        294   \n",
       "6065               183                363                        332   \n",
       "6066               163                376                        276   \n",
       "6067               188                361                        285   \n",
       "\n",
       "      bicristalbreadth  ...  waistfrontlengthsitting  waistheightomphalion  \\\n",
       "0                  274  ...                      440                  1054   \n",
       "1                  257  ...                      371                  1054   \n",
       "2                  261  ...                      411                  1041   \n",
       "3                  262  ...                      399                   968   \n",
       "4                  263  ...                      379                  1245   \n",
       "...                ...  ...                      ...                   ...   \n",
       "6063               312  ...                      370                  1002   \n",
       "6064               287  ...                      374                   958   \n",
       "6065               299  ...                      351                   970   \n",
       "6066               280  ...                      335                   952   \n",
       "6067               279  ...                      394                   943   \n",
       "\n",
       "      weightkg  wristcircumference  wristheight  Gender  \\\n",
       "0          815                 175          853    Male   \n",
       "1          726                 167          815    Male   \n",
       "2          929                 180          831    Male   \n",
       "3          794                 176          793    Male   \n",
       "4          946                 188          954    Male   \n",
       "...        ...                 ...          ...     ...   \n",
       "6063       832                 162          836  Female   \n",
       "6064       717                 157          804  Female   \n",
       "6065       762                 159          774  Female   \n",
       "6066       632                 146          769  Female   \n",
       "6067       610                 154          797  Female   \n",
       "\n",
       "      SubjectsBirthLocation   DODRace  Age  WritingPreference  \n",
       "0              North Dakota     White   41         Right hand  \n",
       "1                  New York     White   35          Left hand  \n",
       "2                  New York     Black   42          Left hand  \n",
       "3                 Wisconsin     White   31         Right hand  \n",
       "4            North Carolina     Black   21         Right hand  \n",
       "...                     ...       ...  ...                ...  \n",
       "6063                  Texas  Hispanic   51         Right hand  \n",
       "6064                  Texas  Hispanic   40         Right hand  \n",
       "6065                  Texas     Black   40         Right hand  \n",
       "6066                  Texas  Hispanic   31         Right hand  \n",
       "6067                  Texas  Hispanic   27         Right hand  \n",
       "\n",
       "[5769 rows x 98 columns]"
      ]
     },
     "execution_count": 171,
     "metadata": {},
     "output_type": "execute_result"
    }
   ],
   "source": [
    "df2 = df[(df[\"DODRace\"] == \"White\") | (df[\"DODRace\"] == \"Black\") | (df[\"DODRace\"] == \"Hispanic\")]\n",
    "df2"
   ]
  },
  {
   "cell_type": "code",
   "execution_count": null,
   "metadata": {},
   "outputs": [],
   "source": []
  },
  {
   "cell_type": "code",
   "execution_count": 172,
   "metadata": {},
   "outputs": [
    {
     "data": {
      "image/png": "[encoded data removed]",
      "text/plain": [
       "<Figure size 1440x1440 with 2 Axes>"
      ]
     },
     "metadata": {
      "needs_background": "light"
     },
     "output_type": "display_data"
    }
   ],
   "source": [
    "plt.figure(figsize=(20,20))\n",
    "sns.heatmap(df.corr(), cmap=\"GnBu\");"
   ]
  },
  {
   "cell_type": "code",
   "execution_count": null,
   "metadata": {},
   "outputs": [],
   "source": []
  },
  {
   "cell_type": "markdown",
   "metadata": {
    "heading_collapsed": true,
    "id": "CS5-GZy0sl4s"
   },
   "source": [
    "# DATA Preprocessing\n",
    "- In this step we divide our data to X(Features) and y(Target) then ,\n",
    "- To train and evaluation purposes we create train and test sets,\n",
    "- Lastly, scale our data if features not in same scale. Why?"
   ]
  },
  {
   "cell_type": "code",
   "execution_count": 173,
   "metadata": {},
   "outputs": [],
   "source": [
    "X = df2.drop(columns=\"DODRace\")\n",
    "y = df2[\"DODRace\"]"
   ]
  },
  {
   "cell_type": "code",
   "execution_count": 174,
   "metadata": {},
   "outputs": [],
   "source": [
    "from sklearn.model_selection import train_test_split"
   ]
  },
  {
   "cell_type": "code",
   "execution_count": 175,
   "metadata": {},
   "outputs": [],
   "source": [
    "X_train, X_test, y_train, y_test = train_test_split(X, y, test_size=0.2, random_state=101)"
   ]
  },
  {
   "cell_type": "code",
   "execution_count": 176,
   "metadata": {
    "hidden": true,
    "id": "fr2wgpvk1b7B"
   },
   "outputs": [
    {
     "name": "stdout",
     "output_type": "stream",
     "text": [
      "Train features shape   :  (4615, 97)\n",
      "Train target shape     :  (4615,)\n",
      "Test features shape    :  (1154, 97)\n",
      "Test target shape      :  (1154,)\n"
     ]
    }
   ],
   "source": [
    "print(\"Train features shape   : \", X_train.shape)\n",
    "print(\"Train target shape     : \", y_train.shape)\n",
    "print(\"Test features shape    : \", X_test.shape)\n",
    "print(\"Test target shape      : \", y_test.shape)"
   ]
  },
  {
   "cell_type": "code",
   "execution_count": null,
   "metadata": {
    "id": "XR7jROJBo9iZ"
   },
   "outputs": [],
   "source": []
  },
  {
   "cell_type": "markdown",
   "metadata": {
    "heading_collapsed": true,
    "id": "zfi_NOw0s2fM"
   },
   "source": [
    "# Modelling\n",
    "- Fit the model with train dataset\n",
    "- Get predict from vanilla model on both train and test sets to examine if there is over/underfitting   \n",
    "- Apply GridseachCV for both hyperparemeter tuning and sanity test of our model.\n",
    "- Use hyperparameters that you find from gridsearch and make final prediction and evaluate the result according to chosen metric."
   ]
  },
  {
   "cell_type": "markdown",
   "metadata": {
    "heading_collapsed": true,
    "hidden": true,
    "id": "N1cviBuh1b7C"
   },
   "source": [
    "## 1. Logistic model"
   ]
  },
  {
   "cell_type": "markdown",
   "metadata": {
    "heading_collapsed": true,
    "hidden": true,
    "id": "0rSJ5hxp1b7C"
   },
   "source": [
    "### Vanilla Logistic Model"
   ]
  },
  {
   "cell_type": "code",
   "execution_count": 177,
   "metadata": {},
   "outputs": [
    {
     "data": {
      "text/plain": [
       "Index(['Gender', 'SubjectsBirthLocation', 'WritingPreference'], dtype='object')"
      ]
     },
     "execution_count": 177,
     "metadata": {},
     "output_type": "execute_result"
    }
   ],
   "source": [
    "cat = X_train.select_dtypes(\"object\").columns\n",
    "cat "
   ]
  },
  {
   "cell_type": "code",
   "execution_count": 178,
   "metadata": {},
   "outputs": [],
   "source": [
    "def eval_metric(model, X_train, y_train, X_test, y_test):\n",
    "    y_train_pred = model.predict(X_train)\n",
    "    y_pred = model.predict(X_test)\n",
    "    \n",
    "    print(\"Test_Set\")\n",
    "    print(confusion_matrix(y_test, y_pred))\n",
    "    print(classification_report(y_test, y_pred))\n",
    "    print()\n",
    "    print(\"Train_Set\")\n",
    "    print(confusion_matrix(y_train, y_train_pred))\n",
    "    print(classification_report(y_train, y_train_pred))"
   ]
  },
  {
   "cell_type": "code",
   "execution_count": 179,
   "metadata": {},
   "outputs": [],
   "source": [
    "from sklearn.compose import make_column_transformer\n",
    "from sklearn.preprocessing import OneHotEncoder, MinMaxScaler, StandardScaler\n",
    "\n",
    "column_trans = make_column_transformer((OneHotEncoder(handle_unknown=\"ignore\", sparse=False), cat), \n",
    "                                       remainder=MinMaxScaler())"
   ]
  },
  {
   "cell_type": "code",
   "execution_count": 180,
   "metadata": {},
   "outputs": [],
   "source": [
    "from sklearn.pipeline import Pipeline\n",
    "operations = [(\"OneHotEncoder\", column_trans), (\"log\", LogisticRegression(class_weight='balanced',max_iter=10000,\n",
    "                                                                          random_state=101))]\n",
    "\n",
    "pipe_log_model = Pipeline(steps=operations)"
   ]
  },
  {
   "cell_type": "code",
   "execution_count": 181,
   "metadata": {},
   "outputs": [
    {
     "name": "stdout",
     "output_type": "stream",
     "text": [
      "Test_Set\n",
      "[[240  11   7]\n",
      " [  8  99  23]\n",
      " [ 19 106 641]]\n",
      "              precision    recall  f1-score   support\n",
      "\n",
      "       Black       0.90      0.93      0.91       258\n",
      "    Hispanic       0.46      0.76      0.57       130\n",
      "       White       0.96      0.84      0.89       766\n",
      "\n",
      "    accuracy                           0.85      1154\n",
      "   macro avg       0.77      0.84      0.79      1154\n",
      "weighted avg       0.89      0.85      0.86      1154\n",
      "\n",
      "\n",
      "Train_Set\n",
      "[[ 978   30   32]\n",
      " [  20  466   63]\n",
      " [  66  339 2621]]\n",
      "              precision    recall  f1-score   support\n",
      "\n",
      "       Black       0.92      0.94      0.93      1040\n",
      "    Hispanic       0.56      0.85      0.67       549\n",
      "       White       0.97      0.87      0.91      3026\n",
      "\n",
      "    accuracy                           0.88      4615\n",
      "   macro avg       0.81      0.89      0.84      4615\n",
      "weighted avg       0.91      0.88      0.89      4615\n",
      "\n"
     ]
    }
   ],
   "source": [
    "pipe_log_model.fit(X_train,y_train)\n",
    "eval_metric(pipe_log_model, X_train, y_train, X_test, y_test)"
   ]
  },
  {
   "cell_type": "code",
   "execution_count": 182,
   "metadata": {},
   "outputs": [],
   "source": [
    "scoring = {\"precision_Hispanic\" : make_scorer(precision_score, average = None, labels =[\"Hispanic\"]),\n",
    "           \"recall_Hispanic\" : make_scorer(recall_score, average = None, labels =[\"Hispanic\"]),\n",
    "           \"f1_Hispanic\" : make_scorer(f1_score, average = None, labels =[\"Hispanic\"])}"
   ]
  },
  {
   "cell_type": "code",
   "execution_count": 184,
   "metadata": {},
   "outputs": [],
   "source": [
    "from sklearn.model_selection import cross_val_score, cross_validate"
   ]
  },
  {
   "cell_type": "code",
   "execution_count": 185,
   "metadata": {},
   "outputs": [
    {
     "data": {
      "text/plain": [
       "test_precision_Hispanic     0.515824\n",
       "train_precision_Hispanic    0.559429\n",
       "test_recall_Hispanic        0.786667\n",
       "train_recall_Hispanic       0.851446\n",
       "test_f1_Hispanic            0.622275\n",
       "train_f1_Hispanic           0.675197\n",
       "dtype: float64"
      ]
     },
     "execution_count": 185,
     "metadata": {},
     "output_type": "execute_result"
    }
   ],
   "source": [
    "operations = [(\"OneHotEncoder\", column_trans), (\"log\", LogisticRegression(class_weight='balanced',max_iter=10000,\n",
    "                                                                          random_state=101))]\n",
    "\n",
    "model = Pipeline(steps=operations)\n",
    "\n",
    "scores = cross_validate(model, X_train, y_train, scoring = scoring, cv = 10, return_train_score=True)\n",
    "df_scores = pd.DataFrame(scores, index = range(1, 11))\n",
    "df_scores.mean()[2:]"
   ]
  },
  {
   "cell_type": "markdown",
   "metadata": {
    "heading_collapsed": true,
    "hidden": true,
    "id": "lPelWxsU1b7C"
   },
   "source": [
    "### Logistic Model GridsearchCV"
   ]
  },
  {
   "cell_type": "code",
   "execution_count": 186,
   "metadata": {
    "id": "PNZyqeNY15nP"
   },
   "outputs": [],
   "source": [
    "recall_Hispanic =  make_scorer(recall_score, average=None, labels=[\"Hispanic\"])"
   ]
  },
  {
   "cell_type": "code",
   "execution_count": 187,
   "metadata": {},
   "outputs": [],
   "source": [
    "param_grid = {\n",
    "    \"log__C\": [0.5, 1],\n",
    "    'log__penalty': [\"l1\", \"l2\"],\n",
    "    'log__solver': ['liblinear', 'lbfgs'],\n",
    "}"
   ]
  },
  {
   "cell_type": "code",
   "execution_count": 189,
   "metadata": {},
   "outputs": [],
   "source": [
    "from sklearn.model_selection import GridSearchCV"
   ]
  },
  {
   "cell_type": "code",
   "execution_count": 190,
   "metadata": {},
   "outputs": [],
   "source": [
    "operations = [(\"OneHotEncoder\", column_trans), (\"log\", LogisticRegression(class_weight='balanced',max_iter=10000,\n",
    "                                                                          random_state=101))]\n",
    "\n",
    "model = Pipeline(steps=operations)\n",
    "\n",
    "log_model_grid = GridSearchCV(model,\n",
    "                              param_grid,\n",
    "                              verbose=3,\n",
    "                              scoring=recall_Hispanic,\n",
    "                              cv=10,\n",
    "                              n_jobs=-1,\n",
    "                              return_train_score=True)"
   ]
  },
  {
   "cell_type": "code",
   "execution_count": 191,
   "metadata": {},
   "outputs": [
    {
     "name": "stdout",
     "output_type": "stream",
     "text": [
      "Fitting 10 folds for each of 8 candidates, totalling 80 fits\n"
     ]
    },
    {
     "data": {
      "text/html": [
       "<style>#sk-container-id-1 {color: black;background-color: white;}#sk-container-id-1 pre{padding: 0;}#sk-container-id-1 div.sk-toggleable {background-color: white;}#sk-container-id-1 label.sk-toggleable__label {cursor: pointer;display: block;width: 100%;margin-bottom: 0;padding: 0.3em;box-sizing: border-box;text-align: center;}#sk-container-id-1 label.sk-toggleable__label-arrow:before {content: \"▸\";float: left;margin-right: 0.25em;color: #696969;}#sk-container-id-1 label.sk-toggleable__label-arrow:hover:before {color: black;}#sk-container-id-1 div.sk-estimator:hover label.sk-toggleable__label-arrow:before {color: black;}#sk-container-id-1 div.sk-toggleable__content {max-height: 0;max-width: 0;overflow: hidden;text-align: left;background-color: #f0f8ff;}#sk-container-id-1 div.sk-toggleable__content pre {margin: 0.2em;color: black;border-radius: 0.25em;background-color: #f0f8ff;}#sk-container-id-1 input.sk-toggleable__control:checked~div.sk-toggleable__content {max-height: 200px;max-width: 100%;overflow: auto;}#sk-container-id-1 input.sk-toggleable__control:checked~label.sk-toggleable__label-arrow:before {content: \"▾\";}#sk-container-id-1 div.sk-estimator input.sk-toggleable__control:checked~label.sk-toggleable__label {background-color: #d4ebff;}#sk-container-id-1 div.sk-label input.sk-toggleable__control:checked~label.sk-toggleable__label {background-color: #d4ebff;}#sk-container-id-1 input.sk-hidden--visually {border: 0;clip: rect(1px 1px 1px 1px);clip: rect(1px, 1px, 1px, 1px);height: 1px;margin: -1px;overflow: hidden;padding: 0;position: absolute;width: 1px;}#sk-container-id-1 div.sk-estimator {font-family: monospace;background-color: #f0f8ff;border: 1px dotted black;border-radius: 0.25em;box-sizing: border-box;margin-bottom: 0.5em;}#sk-container-id-1 div.sk-estimator:hover {background-color: #d4ebff;}#sk-container-id-1 div.sk-parallel-item::after {content: \"\";width: 100%;border-bottom: 1px solid gray;flex-grow: 1;}#sk-container-id-1 div.sk-label:hover label.sk-toggleable__label {background-color: #d4ebff;}#sk-container-id-1 div.sk-serial::before {content: \"\";position: absolute;border-left: 1px solid gray;box-sizing: border-box;top: 0;bottom: 0;left: 50%;z-index: 0;}#sk-container-id-1 div.sk-serial {display: flex;flex-direction: column;align-items: center;background-color: white;padding-right: 0.2em;padding-left: 0.2em;position: relative;}#sk-container-id-1 div.sk-item {position: relative;z-index: 1;}#sk-container-id-1 div.sk-parallel {display: flex;align-items: stretch;justify-content: center;background-color: white;position: relative;}#sk-container-id-1 div.sk-item::before, #sk-container-id-1 div.sk-parallel-item::before {content: \"\";position: absolute;border-left: 1px solid gray;box-sizing: border-box;top: 0;bottom: 0;left: 50%;z-index: -1;}#sk-container-id-1 div.sk-parallel-item {display: flex;flex-direction: column;z-index: 1;position: relative;background-color: white;}#sk-container-id-1 div.sk-parallel-item:first-child::after {align-self: flex-end;width: 50%;}#sk-container-id-1 div.sk-parallel-item:last-child::after {align-self: flex-start;width: 50%;}#sk-container-id-1 div.sk-parallel-item:only-child::after {width: 0;}#sk-container-id-1 div.sk-dashed-wrapped {border: 1px dashed gray;margin: 0 0.4em 0.5em 0.4em;box-sizing: border-box;padding-bottom: 0.4em;background-color: white;}#sk-container-id-1 div.sk-label label {font-family: monospace;font-weight: bold;display: inline-block;line-height: 1.2em;}#sk-container-id-1 div.sk-label-container {text-align: center;}#sk-container-id-1 div.sk-container {/* jupyter's `normalize.less` sets `[hidden] { display: none; }` but bootstrap.min.css set `[hidden] { display: none !important; }` so we also need the `!important` here to be able to override the default hidden behavior on the sphinx rendered scikit-learn.org. See: https://github.com/scikit-learn/scikit-learn/issues/21755 */display: inline-block !important;position: relative;}#sk-container-id-1 div.sk-text-repr-fallback {display: none;}</style><div id=\"sk-container-id-1\" class=\"sk-top-container\"><div class=\"sk-text-repr-fallback\"><pre>GridSearchCV(cv=10,\n",
       "             estimator=Pipeline(steps=[(&#x27;OneHotEncoder&#x27;,\n",
       "                                        ColumnTransformer(remainder=MinMaxScaler(),\n",
       "                                                          transformers=[(&#x27;onehotencoder&#x27;,\n",
       "                                                                         OneHotEncoder(handle_unknown=&#x27;ignore&#x27;,\n",
       "                                                                                       sparse=False),\n",
       "                                                                         Index([&#x27;Gender&#x27;, &#x27;SubjectsBirthLocation&#x27;, &#x27;WritingPreference&#x27;], dtype=&#x27;object&#x27;))])),\n",
       "                                       (&#x27;log&#x27;,\n",
       "                                        LogisticRegression(class_weight=&#x27;balanced&#x27;,\n",
       "                                                           max_iter=10000,\n",
       "                                                           random_state=101))]),\n",
       "             n_jobs=-1,\n",
       "             param_grid={&#x27;log__C&#x27;: [0.5, 1], &#x27;log__penalty&#x27;: [&#x27;l1&#x27;, &#x27;l2&#x27;],\n",
       "                         &#x27;log__solver&#x27;: [&#x27;liblinear&#x27;, &#x27;lbfgs&#x27;]},\n",
       "             return_train_score=True,\n",
       "             scoring=make_scorer(recall_score, average=None, labels=[&#x27;Hispanic&#x27;]),\n",
       "             verbose=3)</pre><b>In a Jupyter environment, please rerun this cell to show the HTML representation or trust the notebook. <br />On GitHub, the HTML representation is unable to render, please try loading this page with nbviewer.org.</b></div><div class=\"sk-container\" hidden><div class=\"sk-item sk-dashed-wrapped\"><div class=\"sk-label-container\"><div class=\"sk-label sk-toggleable\"><input class=\"sk-toggleable__control sk-hidden--visually\" id=\"sk-estimator-id-1\" type=\"checkbox\" ><label for=\"sk-estimator-id-1\" class=\"sk-toggleable__label sk-toggleable__label-arrow\">GridSearchCV</label><div class=\"sk-toggleable__content\"><pre>GridSearchCV(cv=10,\n",
       "             estimator=Pipeline(steps=[(&#x27;OneHotEncoder&#x27;,\n",
       "                                        ColumnTransformer(remainder=MinMaxScaler(),\n",
       "                                                          transformers=[(&#x27;onehotencoder&#x27;,\n",
       "                                                                         OneHotEncoder(handle_unknown=&#x27;ignore&#x27;,\n",
       "                                                                                       sparse=False),\n",
       "                                                                         Index([&#x27;Gender&#x27;, &#x27;SubjectsBirthLocation&#x27;, &#x27;WritingPreference&#x27;], dtype=&#x27;object&#x27;))])),\n",
       "                                       (&#x27;log&#x27;,\n",
       "                                        LogisticRegression(class_weight=&#x27;balanced&#x27;,\n",
       "                                                           max_iter=10000,\n",
       "                                                           random_state=101))]),\n",
       "             n_jobs=-1,\n",
       "             param_grid={&#x27;log__C&#x27;: [0.5, 1], &#x27;log__penalty&#x27;: [&#x27;l1&#x27;, &#x27;l2&#x27;],\n",
       "                         &#x27;log__solver&#x27;: [&#x27;liblinear&#x27;, &#x27;lbfgs&#x27;]},\n",
       "             return_train_score=True,\n",
       "             scoring=make_scorer(recall_score, average=None, labels=[&#x27;Hispanic&#x27;]),\n",
       "             verbose=3)</pre></div></div></div><div class=\"sk-parallel\"><div class=\"sk-parallel-item\"><div class=\"sk-item\"><div class=\"sk-label-container\"><div class=\"sk-label sk-toggleable\"><input class=\"sk-toggleable__control sk-hidden--visually\" id=\"sk-estimator-id-2\" type=\"checkbox\" ><label for=\"sk-estimator-id-2\" class=\"sk-toggleable__label sk-toggleable__label-arrow\">estimator: Pipeline</label><div class=\"sk-toggleable__content\"><pre>Pipeline(steps=[(&#x27;OneHotEncoder&#x27;,\n",
       "                 ColumnTransformer(remainder=MinMaxScaler(),\n",
       "                                   transformers=[(&#x27;onehotencoder&#x27;,\n",
       "                                                  OneHotEncoder(handle_unknown=&#x27;ignore&#x27;,\n",
       "                                                                sparse=False),\n",
       "                                                  Index([&#x27;Gender&#x27;, &#x27;SubjectsBirthLocation&#x27;, &#x27;WritingPreference&#x27;], dtype=&#x27;object&#x27;))])),\n",
       "                (&#x27;log&#x27;,\n",
       "                 LogisticRegression(class_weight=&#x27;balanced&#x27;, max_iter=10000,\n",
       "                                    random_state=101))])</pre></div></div></div><div class=\"sk-serial\"><div class=\"sk-item\"><div class=\"sk-serial\"><div class=\"sk-item sk-dashed-wrapped\"><div class=\"sk-label-container\"><div class=\"sk-label sk-toggleable\"><input class=\"sk-toggleable__control sk-hidden--visually\" id=\"sk-estimator-id-3\" type=\"checkbox\" ><label for=\"sk-estimator-id-3\" class=\"sk-toggleable__label sk-toggleable__label-arrow\">OneHotEncoder: ColumnTransformer</label><div class=\"sk-toggleable__content\"><pre>ColumnTransformer(remainder=MinMaxScaler(),\n",
       "                  transformers=[(&#x27;onehotencoder&#x27;,\n",
       "                                 OneHotEncoder(handle_unknown=&#x27;ignore&#x27;,\n",
       "                                               sparse=False),\n",
       "                                 Index([&#x27;Gender&#x27;, &#x27;SubjectsBirthLocation&#x27;, &#x27;WritingPreference&#x27;], dtype=&#x27;object&#x27;))])</pre></div></div></div><div class=\"sk-parallel\"><div class=\"sk-parallel-item\"><div class=\"sk-item\"><div class=\"sk-label-container\"><div class=\"sk-label sk-toggleable\"><input class=\"sk-toggleable__control sk-hidden--visually\" id=\"sk-estimator-id-4\" type=\"checkbox\" ><label for=\"sk-estimator-id-4\" class=\"sk-toggleable__label sk-toggleable__label-arrow\">onehotencoder</label><div class=\"sk-toggleable__content\"><pre>Index([&#x27;Gender&#x27;, &#x27;SubjectsBirthLocation&#x27;, &#x27;WritingPreference&#x27;], dtype=&#x27;object&#x27;)</pre></div></div></div><div class=\"sk-serial\"><div class=\"sk-item\"><div class=\"sk-estimator sk-toggleable\"><input class=\"sk-toggleable__control sk-hidden--visually\" id=\"sk-estimator-id-5\" type=\"checkbox\" ><label for=\"sk-estimator-id-5\" class=\"sk-toggleable__label sk-toggleable__label-arrow\">OneHotEncoder</label><div class=\"sk-toggleable__content\"><pre>OneHotEncoder(handle_unknown=&#x27;ignore&#x27;, sparse=False)</pre></div></div></div></div></div></div><div class=\"sk-parallel-item\"><div class=\"sk-item\"><div class=\"sk-label-container\"><div class=\"sk-label sk-toggleable\"><input class=\"sk-toggleable__control sk-hidden--visually\" id=\"sk-estimator-id-6\" type=\"checkbox\" ><label for=\"sk-estimator-id-6\" class=\"sk-toggleable__label sk-toggleable__label-arrow\">remainder</label><div class=\"sk-toggleable__content\"><pre>[&#x27;abdominalextensiondepthsitting&#x27;, &#x27;acromialheight&#x27;, &#x27;acromionradialelength&#x27;, &#x27;anklecircumference&#x27;, &#x27;axillaheight&#x27;, &#x27;balloffootcircumference&#x27;, &#x27;balloffootlength&#x27;, &#x27;biacromialbreadth&#x27;, &#x27;bicepscircumferenceflexed&#x27;, &#x27;bicristalbreadth&#x27;, &#x27;bideltoidbreadth&#x27;, &#x27;bimalleolarbreadth&#x27;, &#x27;bitragionchinarc&#x27;, &#x27;bitragionsubmandibulararc&#x27;, &#x27;bizygomaticbreadth&#x27;, &#x27;buttockcircumference&#x27;, &#x27;buttockdepth&#x27;, &#x27;buttockheight&#x27;, &#x27;buttockkneelength&#x27;, &#x27;buttockpopliteallength&#x27;, &#x27;calfcircumference&#x27;, &#x27;cervicaleheight&#x27;, &#x27;chestbreadth&#x27;, &#x27;chestcircumference&#x27;, &#x27;chestdepth&#x27;, &#x27;chestheight&#x27;, &#x27;crotchheight&#x27;, &#x27;crotchlengthomphalion&#x27;, &#x27;crotchlengthposterioromphalion&#x27;, &#x27;earbreadth&#x27;, &#x27;earlength&#x27;, &#x27;earprotrusion&#x27;, &#x27;elbowrestheight&#x27;, &#x27;eyeheightsitting&#x27;, &#x27;footbreadthhorizontal&#x27;, &#x27;footlength&#x27;, &#x27;forearmcenterofgriplength&#x27;, &#x27;forearmcircumferenceflexed&#x27;, &#x27;forearmforearmbreadth&#x27;, &#x27;forearmhandlength&#x27;, &#x27;functionalleglength&#x27;, &#x27;handbreadth&#x27;, &#x27;handcircumference&#x27;, &#x27;handlength&#x27;, &#x27;headbreadth&#x27;, &#x27;headcircumference&#x27;, &#x27;headlength&#x27;, &#x27;heelanklecircumference&#x27;, &#x27;heelbreadth&#x27;, &#x27;hipbreadth&#x27;, &#x27;hipbreadthsitting&#x27;, &#x27;iliocristaleheight&#x27;, &#x27;interpupillarybreadth&#x27;, &#x27;interscyei&#x27;, &#x27;interscyeii&#x27;, &#x27;kneeheightmidpatella&#x27;, &#x27;kneeheightsitting&#x27;, &#x27;lateralfemoralepicondyleheight&#x27;, &#x27;lateralmalleolusheight&#x27;, &#x27;lowerthighcircumference&#x27;, &#x27;mentonsellionlength&#x27;, &#x27;neckcircumference&#x27;, &#x27;neckcircumferencebase&#x27;, &#x27;overheadfingertipreachsitting&#x27;, &#x27;palmlength&#x27;, &#x27;poplitealheight&#x27;, &#x27;radialestylionlength&#x27;, &#x27;shouldercircumference&#x27;, &#x27;shoulderelbowlength&#x27;, &#x27;shoulderlength&#x27;, &#x27;sittingheight&#x27;, &#x27;sleevelengthspinewrist&#x27;, &#x27;sleeveoutseam&#x27;, &#x27;span&#x27;, &#x27;stature&#x27;, &#x27;suprasternaleheight&#x27;, &#x27;tenthribheight&#x27;, &#x27;thighcircumference&#x27;, &#x27;thighclearance&#x27;, &#x27;thumbtipreach&#x27;, &#x27;tibialheight&#x27;, &#x27;tragiontopofhead&#x27;, &#x27;trochanterionheight&#x27;, &#x27;verticaltrunkcircumferenceusa&#x27;, &#x27;waistbacklength&#x27;, &#x27;waistbreadth&#x27;, &#x27;waistcircumference&#x27;, &#x27;waistdepth&#x27;, &#x27;waistfrontlengthsitting&#x27;, &#x27;waistheightomphalion&#x27;, &#x27;weightkg&#x27;, &#x27;wristcircumference&#x27;, &#x27;wristheight&#x27;, &#x27;Age&#x27;]</pre></div></div></div><div class=\"sk-serial\"><div class=\"sk-item\"><div class=\"sk-estimator sk-toggleable\"><input class=\"sk-toggleable__control sk-hidden--visually\" id=\"sk-estimator-id-7\" type=\"checkbox\" ><label for=\"sk-estimator-id-7\" class=\"sk-toggleable__label sk-toggleable__label-arrow\">MinMaxScaler</label><div class=\"sk-toggleable__content\"><pre>MinMaxScaler()</pre></div></div></div></div></div></div></div></div><div class=\"sk-item\"><div class=\"sk-estimator sk-toggleable\"><input class=\"sk-toggleable__control sk-hidden--visually\" id=\"sk-estimator-id-8\" type=\"checkbox\" ><label for=\"sk-estimator-id-8\" class=\"sk-toggleable__label sk-toggleable__label-arrow\">LogisticRegression</label><div class=\"sk-toggleable__content\"><pre>LogisticRegression(class_weight=&#x27;balanced&#x27;, max_iter=10000, random_state=101)</pre></div></div></div></div></div></div></div></div></div></div></div></div>"
      ],
      "text/plain": [
       "GridSearchCV(cv=10,\n",
       "             estimator=Pipeline(steps=[('OneHotEncoder',\n",
       "                                        ColumnTransformer(remainder=MinMaxScaler(),\n",
       "                                                          transformers=[('onehotencoder',\n",
       "                                                                         OneHotEncoder(handle_unknown='ignore',\n",
       "                                                                                       sparse=False),\n",
       "                                                                         Index(['Gender', 'SubjectsBirthLocation', 'WritingPreference'], dtype='object'))])),\n",
       "                                       ('log',\n",
       "                                        LogisticRegression(class_weight='balanced',\n",
       "                                                           max_iter=10000,\n",
       "                                                           random_state=101))]),\n",
       "             n_jobs=-1,\n",
       "             param_grid={'log__C': [0.5, 1], 'log__penalty': ['l1', 'l2'],\n",
       "                         'log__solver': ['liblinear', 'lbfgs']},\n",
       "             return_train_score=True,\n",
       "             scoring=make_scorer(recall_score, average=None, labels=['Hispanic']),\n",
       "             verbose=3)"
      ]
     },
     "execution_count": 191,
     "metadata": {},
     "output_type": "execute_result"
    }
   ],
   "source": [
    "log_model_grid.fit(X_train,y_train)"
   ]
  },
  {
   "cell_type": "code",
   "execution_count": 192,
   "metadata": {},
   "outputs": [
    {
     "data": {
      "text/html": [
       "<style>#sk-container-id-2 {color: black;background-color: white;}#sk-container-id-2 pre{padding: 0;}#sk-container-id-2 div.sk-toggleable {background-color: white;}#sk-container-id-2 label.sk-toggleable__label {cursor: pointer;display: block;width: 100%;margin-bottom: 0;padding: 0.3em;box-sizing: border-box;text-align: center;}#sk-container-id-2 label.sk-toggleable__label-arrow:before {content: \"▸\";float: left;margin-right: 0.25em;color: #696969;}#sk-container-id-2 label.sk-toggleable__label-arrow:hover:before {color: black;}#sk-container-id-2 div.sk-estimator:hover label.sk-toggleable__label-arrow:before {color: black;}#sk-container-id-2 div.sk-toggleable__content {max-height: 0;max-width: 0;overflow: hidden;text-align: left;background-color: #f0f8ff;}#sk-container-id-2 div.sk-toggleable__content pre {margin: 0.2em;color: black;border-radius: 0.25em;background-color: #f0f8ff;}#sk-container-id-2 input.sk-toggleable__control:checked~div.sk-toggleable__content {max-height: 200px;max-width: 100%;overflow: auto;}#sk-container-id-2 input.sk-toggleable__control:checked~label.sk-toggleable__label-arrow:before {content: \"▾\";}#sk-container-id-2 div.sk-estimator input.sk-toggleable__control:checked~label.sk-toggleable__label {background-color: #d4ebff;}#sk-container-id-2 div.sk-label input.sk-toggleable__control:checked~label.sk-toggleable__label {background-color: #d4ebff;}#sk-container-id-2 input.sk-hidden--visually {border: 0;clip: rect(1px 1px 1px 1px);clip: rect(1px, 1px, 1px, 1px);height: 1px;margin: -1px;overflow: hidden;padding: 0;position: absolute;width: 1px;}#sk-container-id-2 div.sk-estimator {font-family: monospace;background-color: #f0f8ff;border: 1px dotted black;border-radius: 0.25em;box-sizing: border-box;margin-bottom: 0.5em;}#sk-container-id-2 div.sk-estimator:hover {background-color: #d4ebff;}#sk-container-id-2 div.sk-parallel-item::after {content: \"\";width: 100%;border-bottom: 1px solid gray;flex-grow: 1;}#sk-container-id-2 div.sk-label:hover label.sk-toggleable__label {background-color: #d4ebff;}#sk-container-id-2 div.sk-serial::before {content: \"\";position: absolute;border-left: 1px solid gray;box-sizing: border-box;top: 0;bottom: 0;left: 50%;z-index: 0;}#sk-container-id-2 div.sk-serial {display: flex;flex-direction: column;align-items: center;background-color: white;padding-right: 0.2em;padding-left: 0.2em;position: relative;}#sk-container-id-2 div.sk-item {position: relative;z-index: 1;}#sk-container-id-2 div.sk-parallel {display: flex;align-items: stretch;justify-content: center;background-color: white;position: relative;}#sk-container-id-2 div.sk-item::before, #sk-container-id-2 div.sk-parallel-item::before {content: \"\";position: absolute;border-left: 1px solid gray;box-sizing: border-box;top: 0;bottom: 0;left: 50%;z-index: -1;}#sk-container-id-2 div.sk-parallel-item {display: flex;flex-direction: column;z-index: 1;position: relative;background-color: white;}#sk-container-id-2 div.sk-parallel-item:first-child::after {align-self: flex-end;width: 50%;}#sk-container-id-2 div.sk-parallel-item:last-child::after {align-self: flex-start;width: 50%;}#sk-container-id-2 div.sk-parallel-item:only-child::after {width: 0;}#sk-container-id-2 div.sk-dashed-wrapped {border: 1px dashed gray;margin: 0 0.4em 0.5em 0.4em;box-sizing: border-box;padding-bottom: 0.4em;background-color: white;}#sk-container-id-2 div.sk-label label {font-family: monospace;font-weight: bold;display: inline-block;line-height: 1.2em;}#sk-container-id-2 div.sk-label-container {text-align: center;}#sk-container-id-2 div.sk-container {/* jupyter's `normalize.less` sets `[hidden] { display: none; }` but bootstrap.min.css set `[hidden] { display: none !important; }` so we also need the `!important` here to be able to override the default hidden behavior on the sphinx rendered scikit-learn.org. See: https://github.com/scikit-learn/scikit-learn/issues/21755 */display: inline-block !important;position: relative;}#sk-container-id-2 div.sk-text-repr-fallback {display: none;}</style><div id=\"sk-container-id-2\" class=\"sk-top-container\"><div class=\"sk-text-repr-fallback\"><pre>Pipeline(steps=[(&#x27;OneHotEncoder&#x27;,\n",
       "                 ColumnTransformer(remainder=MinMaxScaler(),\n",
       "                                   transformers=[(&#x27;onehotencoder&#x27;,\n",
       "                                                  OneHotEncoder(handle_unknown=&#x27;ignore&#x27;,\n",
       "                                                                sparse=False),\n",
       "                                                  Index([&#x27;Gender&#x27;, &#x27;SubjectsBirthLocation&#x27;, &#x27;WritingPreference&#x27;], dtype=&#x27;object&#x27;))])),\n",
       "                (&#x27;log&#x27;,\n",
       "                 LogisticRegression(C=1, class_weight=&#x27;balanced&#x27;,\n",
       "                                    max_iter=10000, random_state=101))])</pre><b>In a Jupyter environment, please rerun this cell to show the HTML representation or trust the notebook. <br />On GitHub, the HTML representation is unable to render, please try loading this page with nbviewer.org.</b></div><div class=\"sk-container\" hidden><div class=\"sk-item sk-dashed-wrapped\"><div class=\"sk-label-container\"><div class=\"sk-label sk-toggleable\"><input class=\"sk-toggleable__control sk-hidden--visually\" id=\"sk-estimator-id-9\" type=\"checkbox\" ><label for=\"sk-estimator-id-9\" class=\"sk-toggleable__label sk-toggleable__label-arrow\">Pipeline</label><div class=\"sk-toggleable__content\"><pre>Pipeline(steps=[(&#x27;OneHotEncoder&#x27;,\n",
       "                 ColumnTransformer(remainder=MinMaxScaler(),\n",
       "                                   transformers=[(&#x27;onehotencoder&#x27;,\n",
       "                                                  OneHotEncoder(handle_unknown=&#x27;ignore&#x27;,\n",
       "                                                                sparse=False),\n",
       "                                                  Index([&#x27;Gender&#x27;, &#x27;SubjectsBirthLocation&#x27;, &#x27;WritingPreference&#x27;], dtype=&#x27;object&#x27;))])),\n",
       "                (&#x27;log&#x27;,\n",
       "                 LogisticRegression(C=1, class_weight=&#x27;balanced&#x27;,\n",
       "                                    max_iter=10000, random_state=101))])</pre></div></div></div><div class=\"sk-serial\"><div class=\"sk-item sk-dashed-wrapped\"><div class=\"sk-label-container\"><div class=\"sk-label sk-toggleable\"><input class=\"sk-toggleable__control sk-hidden--visually\" id=\"sk-estimator-id-10\" type=\"checkbox\" ><label for=\"sk-estimator-id-10\" class=\"sk-toggleable__label sk-toggleable__label-arrow\">OneHotEncoder: ColumnTransformer</label><div class=\"sk-toggleable__content\"><pre>ColumnTransformer(remainder=MinMaxScaler(),\n",
       "                  transformers=[(&#x27;onehotencoder&#x27;,\n",
       "                                 OneHotEncoder(handle_unknown=&#x27;ignore&#x27;,\n",
       "                                               sparse=False),\n",
       "                                 Index([&#x27;Gender&#x27;, &#x27;SubjectsBirthLocation&#x27;, &#x27;WritingPreference&#x27;], dtype=&#x27;object&#x27;))])</pre></div></div></div><div class=\"sk-parallel\"><div class=\"sk-parallel-item\"><div class=\"sk-item\"><div class=\"sk-label-container\"><div class=\"sk-label sk-toggleable\"><input class=\"sk-toggleable__control sk-hidden--visually\" id=\"sk-estimator-id-11\" type=\"checkbox\" ><label for=\"sk-estimator-id-11\" class=\"sk-toggleable__label sk-toggleable__label-arrow\">onehotencoder</label><div class=\"sk-toggleable__content\"><pre>Index([&#x27;Gender&#x27;, &#x27;SubjectsBirthLocation&#x27;, &#x27;WritingPreference&#x27;], dtype=&#x27;object&#x27;)</pre></div></div></div><div class=\"sk-serial\"><div class=\"sk-item\"><div class=\"sk-estimator sk-toggleable\"><input class=\"sk-toggleable__control sk-hidden--visually\" id=\"sk-estimator-id-12\" type=\"checkbox\" ><label for=\"sk-estimator-id-12\" class=\"sk-toggleable__label sk-toggleable__label-arrow\">OneHotEncoder</label><div class=\"sk-toggleable__content\"><pre>OneHotEncoder(handle_unknown=&#x27;ignore&#x27;, sparse=False)</pre></div></div></div></div></div></div><div class=\"sk-parallel-item\"><div class=\"sk-item\"><div class=\"sk-label-container\"><div class=\"sk-label sk-toggleable\"><input class=\"sk-toggleable__control sk-hidden--visually\" id=\"sk-estimator-id-13\" type=\"checkbox\" ><label for=\"sk-estimator-id-13\" class=\"sk-toggleable__label sk-toggleable__label-arrow\">remainder</label><div class=\"sk-toggleable__content\"><pre>[&#x27;abdominalextensiondepthsitting&#x27;, &#x27;acromialheight&#x27;, &#x27;acromionradialelength&#x27;, &#x27;anklecircumference&#x27;, &#x27;axillaheight&#x27;, &#x27;balloffootcircumference&#x27;, &#x27;balloffootlength&#x27;, &#x27;biacromialbreadth&#x27;, &#x27;bicepscircumferenceflexed&#x27;, &#x27;bicristalbreadth&#x27;, &#x27;bideltoidbreadth&#x27;, &#x27;bimalleolarbreadth&#x27;, &#x27;bitragionchinarc&#x27;, &#x27;bitragionsubmandibulararc&#x27;, &#x27;bizygomaticbreadth&#x27;, &#x27;buttockcircumference&#x27;, &#x27;buttockdepth&#x27;, &#x27;buttockheight&#x27;, &#x27;buttockkneelength&#x27;, &#x27;buttockpopliteallength&#x27;, &#x27;calfcircumference&#x27;, &#x27;cervicaleheight&#x27;, &#x27;chestbreadth&#x27;, &#x27;chestcircumference&#x27;, &#x27;chestdepth&#x27;, &#x27;chestheight&#x27;, &#x27;crotchheight&#x27;, &#x27;crotchlengthomphalion&#x27;, &#x27;crotchlengthposterioromphalion&#x27;, &#x27;earbreadth&#x27;, &#x27;earlength&#x27;, &#x27;earprotrusion&#x27;, &#x27;elbowrestheight&#x27;, &#x27;eyeheightsitting&#x27;, &#x27;footbreadthhorizontal&#x27;, &#x27;footlength&#x27;, &#x27;forearmcenterofgriplength&#x27;, &#x27;forearmcircumferenceflexed&#x27;, &#x27;forearmforearmbreadth&#x27;, &#x27;forearmhandlength&#x27;, &#x27;functionalleglength&#x27;, &#x27;handbreadth&#x27;, &#x27;handcircumference&#x27;, &#x27;handlength&#x27;, &#x27;headbreadth&#x27;, &#x27;headcircumference&#x27;, &#x27;headlength&#x27;, &#x27;heelanklecircumference&#x27;, &#x27;heelbreadth&#x27;, &#x27;hipbreadth&#x27;, &#x27;hipbreadthsitting&#x27;, &#x27;iliocristaleheight&#x27;, &#x27;interpupillarybreadth&#x27;, &#x27;interscyei&#x27;, &#x27;interscyeii&#x27;, &#x27;kneeheightmidpatella&#x27;, &#x27;kneeheightsitting&#x27;, &#x27;lateralfemoralepicondyleheight&#x27;, &#x27;lateralmalleolusheight&#x27;, &#x27;lowerthighcircumference&#x27;, &#x27;mentonsellionlength&#x27;, &#x27;neckcircumference&#x27;, &#x27;neckcircumferencebase&#x27;, &#x27;overheadfingertipreachsitting&#x27;, &#x27;palmlength&#x27;, &#x27;poplitealheight&#x27;, &#x27;radialestylionlength&#x27;, &#x27;shouldercircumference&#x27;, &#x27;shoulderelbowlength&#x27;, &#x27;shoulderlength&#x27;, &#x27;sittingheight&#x27;, &#x27;sleevelengthspinewrist&#x27;, &#x27;sleeveoutseam&#x27;, &#x27;span&#x27;, &#x27;stature&#x27;, &#x27;suprasternaleheight&#x27;, &#x27;tenthribheight&#x27;, &#x27;thighcircumference&#x27;, &#x27;thighclearance&#x27;, &#x27;thumbtipreach&#x27;, &#x27;tibialheight&#x27;, &#x27;tragiontopofhead&#x27;, &#x27;trochanterionheight&#x27;, &#x27;verticaltrunkcircumferenceusa&#x27;, &#x27;waistbacklength&#x27;, &#x27;waistbreadth&#x27;, &#x27;waistcircumference&#x27;, &#x27;waistdepth&#x27;, &#x27;waistfrontlengthsitting&#x27;, &#x27;waistheightomphalion&#x27;, &#x27;weightkg&#x27;, &#x27;wristcircumference&#x27;, &#x27;wristheight&#x27;, &#x27;Age&#x27;]</pre></div></div></div><div class=\"sk-serial\"><div class=\"sk-item\"><div class=\"sk-estimator sk-toggleable\"><input class=\"sk-toggleable__control sk-hidden--visually\" id=\"sk-estimator-id-14\" type=\"checkbox\" ><label for=\"sk-estimator-id-14\" class=\"sk-toggleable__label sk-toggleable__label-arrow\">MinMaxScaler</label><div class=\"sk-toggleable__content\"><pre>MinMaxScaler()</pre></div></div></div></div></div></div></div></div><div class=\"sk-item\"><div class=\"sk-estimator sk-toggleable\"><input class=\"sk-toggleable__control sk-hidden--visually\" id=\"sk-estimator-id-15\" type=\"checkbox\" ><label for=\"sk-estimator-id-15\" class=\"sk-toggleable__label sk-toggleable__label-arrow\">LogisticRegression</label><div class=\"sk-toggleable__content\"><pre>LogisticRegression(C=1, class_weight=&#x27;balanced&#x27;, max_iter=10000,\n",
       "                   random_state=101)</pre></div></div></div></div></div></div></div>"
      ],
      "text/plain": [
       "Pipeline(steps=[('OneHotEncoder',\n",
       "                 ColumnTransformer(remainder=MinMaxScaler(),\n",
       "                                   transformers=[('onehotencoder',\n",
       "                                                  OneHotEncoder(handle_unknown='ignore',\n",
       "                                                                sparse=False),\n",
       "                                                  Index(['Gender', 'SubjectsBirthLocation', 'WritingPreference'], dtype='object'))])),\n",
       "                ('log',\n",
       "                 LogisticRegression(C=1, class_weight='balanced',\n",
       "                                    max_iter=10000, random_state=101))])"
      ]
     },
     "execution_count": 192,
     "metadata": {},
     "output_type": "execute_result"
    }
   ],
   "source": [
    "log_model_grid.best_estimator_"
   ]
  },
  {
   "cell_type": "code",
   "execution_count": 193,
   "metadata": {},
   "outputs": [
    {
     "data": {
      "text/plain": [
       "0.7866666666666668"
      ]
     },
     "execution_count": 193,
     "metadata": {},
     "output_type": "execute_result"
    }
   ],
   "source": [
    "log_model_grid.best_score_"
   ]
  },
  {
   "cell_type": "code",
   "execution_count": 194,
   "metadata": {},
   "outputs": [
    {
     "name": "stdout",
     "output_type": "stream",
     "text": [
      "Test_Set\n",
      "[[240  11   7]\n",
      " [  8  99  23]\n",
      " [ 19 106 641]]\n",
      "              precision    recall  f1-score   support\n",
      "\n",
      "       Black       0.90      0.93      0.91       258\n",
      "    Hispanic       0.46      0.76      0.57       130\n",
      "       White       0.96      0.84      0.89       766\n",
      "\n",
      "    accuracy                           0.85      1154\n",
      "   macro avg       0.77      0.84      0.79      1154\n",
      "weighted avg       0.89      0.85      0.86      1154\n",
      "\n",
      "\n",
      "Train_Set\n",
      "[[ 978   30   32]\n",
      " [  20  466   63]\n",
      " [  66  339 2621]]\n",
      "              precision    recall  f1-score   support\n",
      "\n",
      "       Black       0.92      0.94      0.93      1040\n",
      "    Hispanic       0.56      0.85      0.67       549\n",
      "       White       0.97      0.87      0.91      3026\n",
      "\n",
      "    accuracy                           0.88      4615\n",
      "   macro avg       0.81      0.89      0.84      4615\n",
      "weighted avg       0.91      0.88      0.89      4615\n",
      "\n"
     ]
    }
   ],
   "source": [
    "eval_metric(log_model_grid, X_train, y_train, X_test, y_test)"
   ]
  },
  {
   "cell_type": "code",
   "execution_count": 196,
   "metadata": {},
   "outputs": [
    {
     "data": {
      "image/png": "[encoded data removed]",
      "text/plain": [
       "<Figure size 576x396 with 1 Axes>"
      ]
     },
     "metadata": {},
     "output_type": "display_data"
    }
   ],
   "source": [
    "from yellowbrick.classifier import PrecisionRecallCurve\n",
    "\n",
    "operations = [(\"OneHotEncoder\", column_trans), (\"log\", LogisticRegression(class_weight='balanced',max_iter=10000,\n",
    "                                                                          random_state=101))]\n",
    "\n",
    "model = Pipeline(steps=operations)\n",
    "\n",
    "viz = PrecisionRecallCurve(\n",
    "    model,\n",
    "    per_class=True, \n",
    "    classes= [\"Black\", \"Hispanic\", \"White\"],\n",
    "    cmap=\"Set1\"\n",
    ")\n",
    "viz.fit(X_train, y_train)\n",
    "viz.score(X_test, y_test)\n",
    "viz.show();"
   ]
  },
  {
   "cell_type": "code",
   "execution_count": 197,
   "metadata": {},
   "outputs": [
    {
     "data": {
      "text/plain": [
       "{'Black': 0.9704966123417822,\n",
       " 'Hispanic': 0.6775583857600278,\n",
       " 'White': 0.9653739416035337,\n",
       " 'micro': 0.9312034279484304}"
      ]
     },
     "execution_count": 197,
     "metadata": {},
     "output_type": "execute_result"
    }
   ],
   "source": [
    "viz.score_#[\"Hispanic\"]"
   ]
  },
  {
   "cell_type": "code",
   "execution_count": 198,
   "metadata": {},
   "outputs": [],
   "source": [
    "y_pred = log_model_grid.predict(X_test)\n",
    "\n",
    "log_AP = viz.score_[\"Hispanic\"]\n",
    "log_f1 = f1_score(y_test, y_pred, average=None, labels=[\"Hispanic\"])\n",
    "log_recall = recall_score(y_test, y_pred, average=None, labels=[\"Hispanic\"])"
   ]
  },
  {
   "cell_type": "code",
   "execution_count": null,
   "metadata": {},
   "outputs": [],
   "source": []
  },
  {
   "cell_type": "markdown",
   "metadata": {
    "heading_collapsed": true,
    "hidden": true,
    "id": "GM0PL5eZ1b7E"
   },
   "source": [
    "## 2. SVC"
   ]
  },
  {
   "cell_type": "code",
   "execution_count": 200,
   "metadata": {},
   "outputs": [],
   "source": [
    "from sklearn.svm import SVC"
   ]
  },
  {
   "cell_type": "markdown",
   "metadata": {
    "heading_collapsed": true,
    "hidden": true,
    "id": "P3j_Xk1L1b7E"
   },
   "source": [
    "### Vanilla SVC model "
   ]
  },
  {
   "cell_type": "code",
   "execution_count": 202,
   "metadata": {
    "id": "pro8T6CM19vX"
   },
   "outputs": [],
   "source": [
    "operations_svc = [(\"OneHotEncoder\", column_trans), (\"svc\", SVC(class_weight=\"balanced\",random_state=101))]\n",
    "\n",
    "pipe_svc_model = Pipeline(steps=operations_svc)"
   ]
  },
  {
   "cell_type": "code",
   "execution_count": 203,
   "metadata": {},
   "outputs": [
    {
     "name": "stdout",
     "output_type": "stream",
     "text": [
      "Test_Set\n",
      "[[242   7   9]\n",
      " [  8  93  29]\n",
      " [ 16 124 626]]\n",
      "              precision    recall  f1-score   support\n",
      "\n",
      "       Black       0.91      0.94      0.92       258\n",
      "    Hispanic       0.42      0.72      0.53       130\n",
      "       White       0.94      0.82      0.88       766\n",
      "\n",
      "    accuracy                           0.83      1154\n",
      "   macro avg       0.76      0.82      0.77      1154\n",
      "weighted avg       0.88      0.83      0.85      1154\n",
      "\n",
      "\n",
      "Train_Set\n",
      "[[ 954   40   46]\n",
      " [  22  462   65]\n",
      " [  58  389 2579]]\n",
      "              precision    recall  f1-score   support\n",
      "\n",
      "       Black       0.92      0.92      0.92      1040\n",
      "    Hispanic       0.52      0.84      0.64       549\n",
      "       White       0.96      0.85      0.90      3026\n",
      "\n",
      "    accuracy                           0.87      4615\n",
      "   macro avg       0.80      0.87      0.82      4615\n",
      "weighted avg       0.90      0.87      0.88      4615\n",
      "\n"
     ]
    }
   ],
   "source": [
    "pipe_svc_model.fit(X_train, y_train)\n",
    "\n",
    "eval_metric(pipe_svc_model, X_train, y_train, X_test, y_test)"
   ]
  },
  {
   "cell_type": "code",
   "execution_count": 204,
   "metadata": {},
   "outputs": [
    {
     "data": {
      "text/plain": [
       "test_precision_Hispanic     0.478034\n",
       "train_precision_Hispanic    0.518969\n",
       "test_recall_Hispanic        0.777508\n",
       "train_recall_Hispanic       0.842943\n",
       "test_f1_Hispanic            0.591682\n",
       "train_f1_Hispanic           0.642366\n",
       "dtype: float64"
      ]
     },
     "execution_count": 204,
     "metadata": {},
     "output_type": "execute_result"
    }
   ],
   "source": [
    "model = Pipeline(steps=operations_svc)\n",
    "\n",
    "scores = cross_validate(model, X_train, y_train, scoring = scoring, cv = 10, return_train_score=True)\n",
    "df_scores = pd.DataFrame(scores, index = range(1, 11))\n",
    "df_scores.mean()[2:]"
   ]
  },
  {
   "cell_type": "markdown",
   "metadata": {
    "heading_collapsed": true,
    "hidden": true,
    "id": "28y9nWxG1b7E"
   },
   "source": [
    "###  SVC Model GridsearchCV"
   ]
  },
  {
   "cell_type": "code",
   "execution_count": 205,
   "metadata": {
    "id": "4dFocgCo1-0Z"
   },
   "outputs": [],
   "source": [
    "param_grid = {\n",
    "    'svc__C': [0.5, 1],\n",
    "    'svc__gamma': [\"scale\", \"auto\", 0.01]\n",
    "}"
   ]
  },
  {
   "cell_type": "code",
   "execution_count": 207,
   "metadata": {},
   "outputs": [],
   "source": [
    "operations_svc = [(\"OneHotEncoder\", column_trans), (\"svc\", SVC(class_weight=\"balanced\",random_state=101))]\n",
    "\n",
    "model = Pipeline(steps=operations_svc)\n",
    "\n",
    "svm_model_grid = GridSearchCV(model,\n",
    "                              param_grid,\n",
    "                              verbose=3,\n",
    "                              scoring=recall_Hispanic,\n",
    "                              cv=10,\n",
    "                              n_jobs=-1,\n",
    "                              return_train_score=True)"
   ]
  },
  {
   "cell_type": "code",
   "execution_count": 208,
   "metadata": {},
   "outputs": [
    {
     "name": "stdout",
     "output_type": "stream",
     "text": [
      "Fitting 10 folds for each of 6 candidates, totalling 60 fits\n"
     ]
    },
    {
     "data": {
      "text/html": [
       "<style>#sk-container-id-3 {color: black;background-color: white;}#sk-container-id-3 pre{padding: 0;}#sk-container-id-3 div.sk-toggleable {background-color: white;}#sk-container-id-3 label.sk-toggleable__label {cursor: pointer;display: block;width: 100%;margin-bottom: 0;padding: 0.3em;box-sizing: border-box;text-align: center;}#sk-container-id-3 label.sk-toggleable__label-arrow:before {content: \"▸\";float: left;margin-right: 0.25em;color: #696969;}#sk-container-id-3 label.sk-toggleable__label-arrow:hover:before {color: black;}#sk-container-id-3 div.sk-estimator:hover label.sk-toggleable__label-arrow:before {color: black;}#sk-container-id-3 div.sk-toggleable__content {max-height: 0;max-width: 0;overflow: hidden;text-align: left;background-color: #f0f8ff;}#sk-container-id-3 div.sk-toggleable__content pre {margin: 0.2em;color: black;border-radius: 0.25em;background-color: #f0f8ff;}#sk-container-id-3 input.sk-toggleable__control:checked~div.sk-toggleable__content {max-height: 200px;max-width: 100%;overflow: auto;}#sk-container-id-3 input.sk-toggleable__control:checked~label.sk-toggleable__label-arrow:before {content: \"▾\";}#sk-container-id-3 div.sk-estimator input.sk-toggleable__control:checked~label.sk-toggleable__label {background-color: #d4ebff;}#sk-container-id-3 div.sk-label input.sk-toggleable__control:checked~label.sk-toggleable__label {background-color: #d4ebff;}#sk-container-id-3 input.sk-hidden--visually {border: 0;clip: rect(1px 1px 1px 1px);clip: rect(1px, 1px, 1px, 1px);height: 1px;margin: -1px;overflow: hidden;padding: 0;position: absolute;width: 1px;}#sk-container-id-3 div.sk-estimator {font-family: monospace;background-color: #f0f8ff;border: 1px dotted black;border-radius: 0.25em;box-sizing: border-box;margin-bottom: 0.5em;}#sk-container-id-3 div.sk-estimator:hover {background-color: #d4ebff;}#sk-container-id-3 div.sk-parallel-item::after {content: \"\";width: 100%;border-bottom: 1px solid gray;flex-grow: 1;}#sk-container-id-3 div.sk-label:hover label.sk-toggleable__label {background-color: #d4ebff;}#sk-container-id-3 div.sk-serial::before {content: \"\";position: absolute;border-left: 1px solid gray;box-sizing: border-box;top: 0;bottom: 0;left: 50%;z-index: 0;}#sk-container-id-3 div.sk-serial {display: flex;flex-direction: column;align-items: center;background-color: white;padding-right: 0.2em;padding-left: 0.2em;position: relative;}#sk-container-id-3 div.sk-item {position: relative;z-index: 1;}#sk-container-id-3 div.sk-parallel {display: flex;align-items: stretch;justify-content: center;background-color: white;position: relative;}#sk-container-id-3 div.sk-item::before, #sk-container-id-3 div.sk-parallel-item::before {content: \"\";position: absolute;border-left: 1px solid gray;box-sizing: border-box;top: 0;bottom: 0;left: 50%;z-index: -1;}#sk-container-id-3 div.sk-parallel-item {display: flex;flex-direction: column;z-index: 1;position: relative;background-color: white;}#sk-container-id-3 div.sk-parallel-item:first-child::after {align-self: flex-end;width: 50%;}#sk-container-id-3 div.sk-parallel-item:last-child::after {align-self: flex-start;width: 50%;}#sk-container-id-3 div.sk-parallel-item:only-child::after {width: 0;}#sk-container-id-3 div.sk-dashed-wrapped {border: 1px dashed gray;margin: 0 0.4em 0.5em 0.4em;box-sizing: border-box;padding-bottom: 0.4em;background-color: white;}#sk-container-id-3 div.sk-label label {font-family: monospace;font-weight: bold;display: inline-block;line-height: 1.2em;}#sk-container-id-3 div.sk-label-container {text-align: center;}#sk-container-id-3 div.sk-container {/* jupyter's `normalize.less` sets `[hidden] { display: none; }` but bootstrap.min.css set `[hidden] { display: none !important; }` so we also need the `!important` here to be able to override the default hidden behavior on the sphinx rendered scikit-learn.org. See: https://github.com/scikit-learn/scikit-learn/issues/21755 */display: inline-block !important;position: relative;}#sk-container-id-3 div.sk-text-repr-fallback {display: none;}</style><div id=\"sk-container-id-3\" class=\"sk-top-container\"><div class=\"sk-text-repr-fallback\"><pre>GridSearchCV(cv=10,\n",
       "             estimator=Pipeline(steps=[(&#x27;OneHotEncoder&#x27;,\n",
       "                                        ColumnTransformer(remainder=MinMaxScaler(),\n",
       "                                                          transformers=[(&#x27;onehotencoder&#x27;,\n",
       "                                                                         OneHotEncoder(handle_unknown=&#x27;ignore&#x27;,\n",
       "                                                                                       sparse=False),\n",
       "                                                                         Index([&#x27;Gender&#x27;, &#x27;SubjectsBirthLocation&#x27;, &#x27;WritingPreference&#x27;], dtype=&#x27;object&#x27;))])),\n",
       "                                       (&#x27;svc&#x27;,\n",
       "                                        SVC(class_weight=&#x27;balanced&#x27;,\n",
       "                                            random_state=101))]),\n",
       "             n_jobs=-1,\n",
       "             param_grid={&#x27;svc__C&#x27;: [0.5, 1],\n",
       "                         &#x27;svc__gamma&#x27;: [&#x27;scale&#x27;, &#x27;auto&#x27;, 0.01]},\n",
       "             return_train_score=True,\n",
       "             scoring=make_scorer(recall_score, average=None, labels=[&#x27;Hispanic&#x27;]),\n",
       "             verbose=3)</pre><b>In a Jupyter environment, please rerun this cell to show the HTML representation or trust the notebook. <br />On GitHub, the HTML representation is unable to render, please try loading this page with nbviewer.org.</b></div><div class=\"sk-container\" hidden><div class=\"sk-item sk-dashed-wrapped\"><div class=\"sk-label-container\"><div class=\"sk-label sk-toggleable\"><input class=\"sk-toggleable__control sk-hidden--visually\" id=\"sk-estimator-id-16\" type=\"checkbox\" ><label for=\"sk-estimator-id-16\" class=\"sk-toggleable__label sk-toggleable__label-arrow\">GridSearchCV</label><div class=\"sk-toggleable__content\"><pre>GridSearchCV(cv=10,\n",
       "             estimator=Pipeline(steps=[(&#x27;OneHotEncoder&#x27;,\n",
       "                                        ColumnTransformer(remainder=MinMaxScaler(),\n",
       "                                                          transformers=[(&#x27;onehotencoder&#x27;,\n",
       "                                                                         OneHotEncoder(handle_unknown=&#x27;ignore&#x27;,\n",
       "                                                                                       sparse=False),\n",
       "                                                                         Index([&#x27;Gender&#x27;, &#x27;SubjectsBirthLocation&#x27;, &#x27;WritingPreference&#x27;], dtype=&#x27;object&#x27;))])),\n",
       "                                       (&#x27;svc&#x27;,\n",
       "                                        SVC(class_weight=&#x27;balanced&#x27;,\n",
       "                                            random_state=101))]),\n",
       "             n_jobs=-1,\n",
       "             param_grid={&#x27;svc__C&#x27;: [0.5, 1],\n",
       "                         &#x27;svc__gamma&#x27;: [&#x27;scale&#x27;, &#x27;auto&#x27;, 0.01]},\n",
       "             return_train_score=True,\n",
       "             scoring=make_scorer(recall_score, average=None, labels=[&#x27;Hispanic&#x27;]),\n",
       "             verbose=3)</pre></div></div></div><div class=\"sk-parallel\"><div class=\"sk-parallel-item\"><div class=\"sk-item\"><div class=\"sk-label-container\"><div class=\"sk-label sk-toggleable\"><input class=\"sk-toggleable__control sk-hidden--visually\" id=\"sk-estimator-id-17\" type=\"checkbox\" ><label for=\"sk-estimator-id-17\" class=\"sk-toggleable__label sk-toggleable__label-arrow\">estimator: Pipeline</label><div class=\"sk-toggleable__content\"><pre>Pipeline(steps=[(&#x27;OneHotEncoder&#x27;,\n",
       "                 ColumnTransformer(remainder=MinMaxScaler(),\n",
       "                                   transformers=[(&#x27;onehotencoder&#x27;,\n",
       "                                                  OneHotEncoder(handle_unknown=&#x27;ignore&#x27;,\n",
       "                                                                sparse=False),\n",
       "                                                  Index([&#x27;Gender&#x27;, &#x27;SubjectsBirthLocation&#x27;, &#x27;WritingPreference&#x27;], dtype=&#x27;object&#x27;))])),\n",
       "                (&#x27;svc&#x27;, SVC(class_weight=&#x27;balanced&#x27;, random_state=101))])</pre></div></div></div><div class=\"sk-serial\"><div class=\"sk-item\"><div class=\"sk-serial\"><div class=\"sk-item sk-dashed-wrapped\"><div class=\"sk-label-container\"><div class=\"sk-label sk-toggleable\"><input class=\"sk-toggleable__control sk-hidden--visually\" id=\"sk-estimator-id-18\" type=\"checkbox\" ><label for=\"sk-estimator-id-18\" class=\"sk-toggleable__label sk-toggleable__label-arrow\">OneHotEncoder: ColumnTransformer</label><div class=\"sk-toggleable__content\"><pre>ColumnTransformer(remainder=MinMaxScaler(),\n",
       "                  transformers=[(&#x27;onehotencoder&#x27;,\n",
       "                                 OneHotEncoder(handle_unknown=&#x27;ignore&#x27;,\n",
       "                                               sparse=False),\n",
       "                                 Index([&#x27;Gender&#x27;, &#x27;SubjectsBirthLocation&#x27;, &#x27;WritingPreference&#x27;], dtype=&#x27;object&#x27;))])</pre></div></div></div><div class=\"sk-parallel\"><div class=\"sk-parallel-item\"><div class=\"sk-item\"><div class=\"sk-label-container\"><div class=\"sk-label sk-toggleable\"><input class=\"sk-toggleable__control sk-hidden--visually\" id=\"sk-estimator-id-19\" type=\"checkbox\" ><label for=\"sk-estimator-id-19\" class=\"sk-toggleable__label sk-toggleable__label-arrow\">onehotencoder</label><div class=\"sk-toggleable__content\"><pre>Index([&#x27;Gender&#x27;, &#x27;SubjectsBirthLocation&#x27;, &#x27;WritingPreference&#x27;], dtype=&#x27;object&#x27;)</pre></div></div></div><div class=\"sk-serial\"><div class=\"sk-item\"><div class=\"sk-estimator sk-toggleable\"><input class=\"sk-toggleable__control sk-hidden--visually\" id=\"sk-estimator-id-20\" type=\"checkbox\" ><label for=\"sk-estimator-id-20\" class=\"sk-toggleable__label sk-toggleable__label-arrow\">OneHotEncoder</label><div class=\"sk-toggleable__content\"><pre>OneHotEncoder(handle_unknown=&#x27;ignore&#x27;, sparse=False)</pre></div></div></div></div></div></div><div class=\"sk-parallel-item\"><div class=\"sk-item\"><div class=\"sk-label-container\"><div class=\"sk-label sk-toggleable\"><input class=\"sk-toggleable__control sk-hidden--visually\" id=\"sk-estimator-id-21\" type=\"checkbox\" ><label for=\"sk-estimator-id-21\" class=\"sk-toggleable__label sk-toggleable__label-arrow\">remainder</label><div class=\"sk-toggleable__content\"><pre>[&#x27;abdominalextensiondepthsitting&#x27;, &#x27;acromialheight&#x27;, &#x27;acromionradialelength&#x27;, &#x27;anklecircumference&#x27;, &#x27;axillaheight&#x27;, &#x27;balloffootcircumference&#x27;, &#x27;balloffootlength&#x27;, &#x27;biacromialbreadth&#x27;, &#x27;bicepscircumferenceflexed&#x27;, &#x27;bicristalbreadth&#x27;, &#x27;bideltoidbreadth&#x27;, &#x27;bimalleolarbreadth&#x27;, &#x27;bitragionchinarc&#x27;, &#x27;bitragionsubmandibulararc&#x27;, &#x27;bizygomaticbreadth&#x27;, &#x27;buttockcircumference&#x27;, &#x27;buttockdepth&#x27;, &#x27;buttockheight&#x27;, &#x27;buttockkneelength&#x27;, &#x27;buttockpopliteallength&#x27;, &#x27;calfcircumference&#x27;, &#x27;cervicaleheight&#x27;, &#x27;chestbreadth&#x27;, &#x27;chestcircumference&#x27;, &#x27;chestdepth&#x27;, &#x27;chestheight&#x27;, &#x27;crotchheight&#x27;, &#x27;crotchlengthomphalion&#x27;, &#x27;crotchlengthposterioromphalion&#x27;, &#x27;earbreadth&#x27;, &#x27;earlength&#x27;, &#x27;earprotrusion&#x27;, &#x27;elbowrestheight&#x27;, &#x27;eyeheightsitting&#x27;, &#x27;footbreadthhorizontal&#x27;, &#x27;footlength&#x27;, &#x27;forearmcenterofgriplength&#x27;, &#x27;forearmcircumferenceflexed&#x27;, &#x27;forearmforearmbreadth&#x27;, &#x27;forearmhandlength&#x27;, &#x27;functionalleglength&#x27;, &#x27;handbreadth&#x27;, &#x27;handcircumference&#x27;, &#x27;handlength&#x27;, &#x27;headbreadth&#x27;, &#x27;headcircumference&#x27;, &#x27;headlength&#x27;, &#x27;heelanklecircumference&#x27;, &#x27;heelbreadth&#x27;, &#x27;hipbreadth&#x27;, &#x27;hipbreadthsitting&#x27;, &#x27;iliocristaleheight&#x27;, &#x27;interpupillarybreadth&#x27;, &#x27;interscyei&#x27;, &#x27;interscyeii&#x27;, &#x27;kneeheightmidpatella&#x27;, &#x27;kneeheightsitting&#x27;, &#x27;lateralfemoralepicondyleheight&#x27;, &#x27;lateralmalleolusheight&#x27;, &#x27;lowerthighcircumference&#x27;, &#x27;mentonsellionlength&#x27;, &#x27;neckcircumference&#x27;, &#x27;neckcircumferencebase&#x27;, &#x27;overheadfingertipreachsitting&#x27;, &#x27;palmlength&#x27;, &#x27;poplitealheight&#x27;, &#x27;radialestylionlength&#x27;, &#x27;shouldercircumference&#x27;, &#x27;shoulderelbowlength&#x27;, &#x27;shoulderlength&#x27;, &#x27;sittingheight&#x27;, &#x27;sleevelengthspinewrist&#x27;, &#x27;sleeveoutseam&#x27;, &#x27;span&#x27;, &#x27;stature&#x27;, &#x27;suprasternaleheight&#x27;, &#x27;tenthribheight&#x27;, &#x27;thighcircumference&#x27;, &#x27;thighclearance&#x27;, &#x27;thumbtipreach&#x27;, &#x27;tibialheight&#x27;, &#x27;tragiontopofhead&#x27;, &#x27;trochanterionheight&#x27;, &#x27;verticaltrunkcircumferenceusa&#x27;, &#x27;waistbacklength&#x27;, &#x27;waistbreadth&#x27;, &#x27;waistcircumference&#x27;, &#x27;waistdepth&#x27;, &#x27;waistfrontlengthsitting&#x27;, &#x27;waistheightomphalion&#x27;, &#x27;weightkg&#x27;, &#x27;wristcircumference&#x27;, &#x27;wristheight&#x27;, &#x27;Age&#x27;]</pre></div></div></div><div class=\"sk-serial\"><div class=\"sk-item\"><div class=\"sk-estimator sk-toggleable\"><input class=\"sk-toggleable__control sk-hidden--visually\" id=\"sk-estimator-id-22\" type=\"checkbox\" ><label for=\"sk-estimator-id-22\" class=\"sk-toggleable__label sk-toggleable__label-arrow\">MinMaxScaler</label><div class=\"sk-toggleable__content\"><pre>MinMaxScaler()</pre></div></div></div></div></div></div></div></div><div class=\"sk-item\"><div class=\"sk-estimator sk-toggleable\"><input class=\"sk-toggleable__control sk-hidden--visually\" id=\"sk-estimator-id-23\" type=\"checkbox\" ><label for=\"sk-estimator-id-23\" class=\"sk-toggleable__label sk-toggleable__label-arrow\">SVC</label><div class=\"sk-toggleable__content\"><pre>SVC(class_weight=&#x27;balanced&#x27;, random_state=101)</pre></div></div></div></div></div></div></div></div></div></div></div></div>"
      ],
      "text/plain": [
       "GridSearchCV(cv=10,\n",
       "             estimator=Pipeline(steps=[('OneHotEncoder',\n",
       "                                        ColumnTransformer(remainder=MinMaxScaler(),\n",
       "                                                          transformers=[('onehotencoder',\n",
       "                                                                         OneHotEncoder(handle_unknown='ignore',\n",
       "                                                                                       sparse=False),\n",
       "                                                                         Index(['Gender', 'SubjectsBirthLocation', 'WritingPreference'], dtype='object'))])),\n",
       "                                       ('svc',\n",
       "                                        SVC(class_weight='balanced',\n",
       "                                            random_state=101))]),\n",
       "             n_jobs=-1,\n",
       "             param_grid={'svc__C': [0.5, 1],\n",
       "                         'svc__gamma': ['scale', 'auto', 0.01]},\n",
       "             return_train_score=True,\n",
       "             scoring=make_scorer(recall_score, average=None, labels=['Hispanic']),\n",
       "             verbose=3)"
      ]
     },
     "execution_count": 208,
     "metadata": {},
     "output_type": "execute_result"
    }
   ],
   "source": [
    "svm_model_grid.fit(X_train, y_train)"
   ]
  },
  {
   "cell_type": "code",
   "execution_count": 210,
   "metadata": {},
   "outputs": [
    {
     "data": {
      "text/plain": [
       "0.7775084175084175"
      ]
     },
     "execution_count": 210,
     "metadata": {},
     "output_type": "execute_result"
    }
   ],
   "source": [
    "svm_model_grid.best_score_"
   ]
  },
  {
   "cell_type": "code",
   "execution_count": 211,
   "metadata": {},
   "outputs": [
    {
     "name": "stdout",
     "output_type": "stream",
     "text": [
      "Test_Set\n",
      "[[242   7   9]\n",
      " [  8  93  29]\n",
      " [ 16 124 626]]\n",
      "              precision    recall  f1-score   support\n",
      "\n",
      "       Black       0.91      0.94      0.92       258\n",
      "    Hispanic       0.42      0.72      0.53       130\n",
      "       White       0.94      0.82      0.88       766\n",
      "\n",
      "    accuracy                           0.83      1154\n",
      "   macro avg       0.76      0.82      0.77      1154\n",
      "weighted avg       0.88      0.83      0.85      1154\n",
      "\n",
      "\n",
      "Train_Set\n",
      "[[ 954   40   46]\n",
      " [  22  462   65]\n",
      " [  58  389 2579]]\n",
      "              precision    recall  f1-score   support\n",
      "\n",
      "       Black       0.92      0.92      0.92      1040\n",
      "    Hispanic       0.52      0.84      0.64       549\n",
      "       White       0.96      0.85      0.90      3026\n",
      "\n",
      "    accuracy                           0.87      4615\n",
      "   macro avg       0.80      0.87      0.82      4615\n",
      "weighted avg       0.90      0.87      0.88      4615\n",
      "\n"
     ]
    }
   ],
   "source": [
    "eval_metric(svm_model_grid, X_train, y_train, X_test, y_test)"
   ]
  },
  {
   "cell_type": "code",
   "execution_count": 212,
   "metadata": {},
   "outputs": [
    {
     "data": {
      "image/png": "[encoded data removed]",
      "text/plain": [
       "<Figure size 576x396 with 1 Axes>"
      ]
     },
     "metadata": {},
     "output_type": "display_data"
    }
   ],
   "source": [
    "operations_svc = [(\"OneHotEncoder\", column_trans), (\"svc\", SVC(C=1, class_weight=\"balanced\",random_state=101))]\n",
    "\n",
    "model = Pipeline(steps=operations_svc)\n",
    "\n",
    "viz = PrecisionRecallCurve(\n",
    "    model,\n",
    "    per_class=True, \n",
    "    classes= [\"Black\", \"Hispanic\", \"White\"],\n",
    "    cmap=\"Set1\"\n",
    ")\n",
    "viz.fit(X_train, y_train)\n",
    "viz.score(X_test, y_test)\n",
    "viz.show();"
   ]
  },
  {
   "cell_type": "markdown",
   "metadata": {
    "heading_collapsed": true,
    "hidden": true,
    "id": "bDX_iLIls74C"
   },
   "source": [
    "## 3. RF"
   ]
  },
  {
   "cell_type": "markdown",
   "metadata": {
    "heading_collapsed": true,
    "hidden": true,
    "id": "qaTzrT6P1b7G"
   },
   "source": [
    "### Vanilla RF Model"
   ]
  },
  {
   "cell_type": "code",
   "execution_count": null,
   "metadata": {
    "id": "gvtqL0Qg2CKf"
   },
   "outputs": [],
   "source": []
  },
  {
   "cell_type": "markdown",
   "metadata": {
    "heading_collapsed": true,
    "hidden": true,
    "id": "MkLAZ_M41b7G"
   },
   "source": [
    "### RF Model GridsearchCV"
   ]
  },
  {
   "cell_type": "code",
   "execution_count": null,
   "metadata": {
    "id": "hpmPr3202EbD"
   },
   "outputs": [],
   "source": []
  },
  {
   "cell_type": "markdown",
   "metadata": {
    "heading_collapsed": true,
    "hidden": true,
    "id": "PvcPc4V81b7H"
   },
   "source": [
    "## 4. XGBoost"
   ]
  },
  {
   "cell_type": "markdown",
   "metadata": {
    "heading_collapsed": true,
    "hidden": true,
    "id": "MuxxUFoW1b7H"
   },
   "source": [
    "### Vanilla XGBoost Model"
   ]
  },
  {
   "cell_type": "code",
   "execution_count": null,
   "metadata": {
    "id": "Nfi1aa152HbR"
   },
   "outputs": [],
   "source": []
  },
  {
   "cell_type": "markdown",
   "metadata": {
    "heading_collapsed": true,
    "hidden": true,
    "id": "p3gH5QvE1b7I"
   },
   "source": [
    "### XGBoost Model GridsearchCV"
   ]
  },
  {
   "cell_type": "code",
   "execution_count": null,
   "metadata": {
    "id": "72E3Cmnm2KOE"
   },
   "outputs": [],
   "source": []
  },
  {
   "cell_type": "markdown",
   "metadata": {
    "hidden": true,
    "id": "DbXAmOPVDatl"
   },
   "source": [
    "---\n",
    "---"
   ]
  },
  {
   "cell_type": "markdown",
   "metadata": {
    "hidden": true,
    "id": "WvWpInu21b7L"
   },
   "source": [
    "---\n",
    "---"
   ]
  },
  {
   "cell_type": "markdown",
   "metadata": {
    "heading_collapsed": true,
    "id": "xg2k1ScZ1b7L"
   },
   "source": [
    "# SMOTE\n",
    "https://machinelearningmastery.com/smote-oversampling-for-imbalanced-classification/"
   ]
  },
  {
   "cell_type": "markdown",
   "metadata": {
    "hidden": true,
    "id": "9Rqk02x61b7L"
   },
   "source": [
    "##  Smote implement"
   ]
  },
  {
   "cell_type": "code",
   "execution_count": null,
   "metadata": {
    "hidden": true,
    "id": "XTN4iO7i1b7L"
   },
   "outputs": [],
   "source": [
    "!pip install imblearn"
   ]
  },
  {
   "cell_type": "code",
   "execution_count": null,
   "metadata": {
    "hidden": true,
    "id": "Cv5155AN1b7L"
   },
   "outputs": [],
   "source": [
    "from imblearn.over_sampling import SMOTE\n",
    "from imblearn.under_sampling import RandomUnderSampler\n",
    "from imblearn.pipeline import Pipeline"
   ]
  },
  {
   "cell_type": "markdown",
   "metadata": {
    "hidden": true,
    "id": "aoKU_HZR1b7M"
   },
   "source": [
    "## SVC Over/Under Sampling"
   ]
  },
  {
   "cell_type": "code",
   "execution_count": null,
   "metadata": {
    "id": "JkNSgnut2Z6N"
   },
   "outputs": [],
   "source": []
  },
  {
   "cell_type": "markdown",
   "metadata": {
    "hidden": true,
    "id": "1hBIqmFL1b7O"
   },
   "source": [
    "## Xgboost Over/ Under Sampling"
   ]
  },
  {
   "cell_type": "code",
   "execution_count": null,
   "metadata": {
    "id": "12AItu1M2ds0"
   },
   "outputs": [],
   "source": []
  },
  {
   "cell_type": "markdown",
   "metadata": {
    "hidden": true,
    "id": "T1pPLjpA1b7P"
   },
   "source": [
    "- Evaluation metrics \n",
    "https://towardsdatascience.com/comprehensive-guide-on-multiclass-classification-metrics-af94cfb83fbd"
   ]
  },
  {
   "cell_type": "code",
   "execution_count": null,
   "metadata": {
    "hidden": true,
    "id": "Me3OZtQF1b7P",
    "outputId": "6280fddb-b392-40c1-87d3-57d242ce2528"
   },
   "outputs": [
    {
     "data": {
      "text/plain": [
       "0.7380728719663084"
      ]
     },
     "execution_count": 138,
     "metadata": {},
     "output_type": "execute_result"
    }
   ],
   "source": [
    "from sklearn.metrics import matthews_corrcoef\n",
    "\n",
    "matthews_corrcoef(y_test, y_pred)"
   ]
  },
  {
   "cell_type": "code",
   "execution_count": null,
   "metadata": {
    "hidden": true,
    "id": "P74oLhzK1b7P",
    "outputId": "350b8e9d-dd72-4566-8b11-10526699cd94"
   },
   "outputs": [
    {
     "data": {
      "text/plain": [
       "0.7376215262514891"
      ]
     },
     "execution_count": 139,
     "metadata": {},
     "output_type": "execute_result"
    }
   ],
   "source": [
    "from sklearn.metrics import cohen_kappa_score\n",
    "\n",
    "cohen_kappa_score(y_test, y_pred)"
   ]
  },
  {
   "cell_type": "markdown",
   "metadata": {
    "heading_collapsed": true,
    "id": "AVnS0UKO1b7P"
   },
   "source": [
    "#  SHAP\n",
    "\n",
    "https://towardsdatascience.com/shap-explain-any-machine-learning-model-in-python-24207127cad7"
   ]
  },
  {
   "cell_type": "code",
   "execution_count": null,
   "metadata": {
    "hidden": true,
    "id": "-vB4oVMU1b7P",
    "outputId": "f9c79861-e5c2-4a60-a2f7-02e6c52a82f3",
    "scrolled": true
   },
   "outputs": [
    {
     "name": "stdout",
     "output_type": "stream",
     "text": [
      "Collecting shap\n",
      "  Downloading shap-0.40.0-cp38-cp38-win_amd64.whl (431 kB)\n",
      "Requirement already satisfied: tqdm>4.25.0 in c:\\users\\madcat\\anaconda3\\lib\\site-packages (from shap) (4.59.0)\n",
      "Requirement already satisfied: numba in c:\\users\\madcat\\anaconda3\\lib\\site-packages (from shap) (0.53.1)\n",
      "Collecting packaging>20.9\n",
      "  Downloading packaging-21.2-py3-none-any.whl (40 kB)\n",
      "Requirement already satisfied: scikit-learn in c:\\users\\madcat\\anaconda3\\lib\\site-packages (from shap) (0.24.1)\n",
      "Collecting slicer==0.0.7\n",
      "  Downloading slicer-0.0.7-py3-none-any.whl (14 kB)\n",
      "Requirement already satisfied: scipy in c:\\users\\madcat\\anaconda3\\lib\\site-packages (from shap) (1.6.2)\n",
      "Requirement already satisfied: cloudpickle in c:\\users\\madcat\\anaconda3\\lib\\site-packages (from shap) (1.6.0)\n",
      "Requirement already satisfied: pandas in c:\\users\\madcat\\anaconda3\\lib\\site-packages (from shap) (1.3.4)\n",
      "Requirement already satisfied: numpy in c:\\users\\madcat\\anaconda3\\lib\\site-packages (from shap) (1.20.1)\n",
      "Requirement already satisfied: pyparsing<3,>=2.0.2 in c:\\users\\madcat\\anaconda3\\lib\\site-packages (from packaging>20.9->shap) (2.4.7)\n",
      "Requirement already satisfied: llvmlite<0.37,>=0.36.0rc1 in c:\\users\\madcat\\anaconda3\\lib\\site-packages (from numba->shap) (0.36.0)\n",
      "Requirement already satisfied: setuptools in c:\\users\\madcat\\anaconda3\\lib\\site-packages (from numba->shap) (52.0.0.post20210125)\n",
      "Requirement already satisfied: pytz>=2017.3 in c:\\users\\madcat\\anaconda3\\lib\\site-packages (from pandas->shap) (2021.1)\n",
      "Requirement already satisfied: python-dateutil>=2.7.3 in c:\\users\\madcat\\anaconda3\\lib\\site-packages (from pandas->shap) (2.8.1)\n",
      "Requirement already satisfied: six>=1.5 in c:\\users\\madcat\\anaconda3\\lib\\site-packages (from python-dateutil>=2.7.3->pandas->shap) (1.15.0)\n",
      "Requirement already satisfied: joblib>=0.11 in c:\\users\\madcat\\anaconda3\\lib\\site-packages (from scikit-learn->shap) (1.0.1)\n",
      "Requirement already satisfied: threadpoolctl>=2.0.0 in c:\\users\\madcat\\anaconda3\\lib\\site-packages (from scikit-learn->shap) (2.1.0)\n",
      "Installing collected packages: slicer, packaging, shap\n",
      "  Attempting uninstall: packaging\n",
      "    Found existing installation: packaging 20.9\n",
      "    Uninstalling packaging-20.9:\n",
      "      Successfully uninstalled packaging-20.9\n",
      "Successfully installed packaging-21.2 shap-0.40.0 slicer-0.0.7\n"
     ]
    }
   ],
   "source": [
    "# !pip install shap"
   ]
  },
  {
   "cell_type": "code",
   "execution_count": null,
   "metadata": {
    "hidden": true,
    "id": "ryW4sFrT1b7P"
   },
   "outputs": [],
   "source": [
    "import shap\n",
    "explainer = shap.Explainer(log_model,X_train)\n",
    "start_index = 203\n",
    "end_index = 204\n",
    "shap_values = explainer.shap_values(X_test[start_index:end_index])"
   ]
  },
  {
   "cell_type": "code",
   "execution_count": null,
   "metadata": {
    "hidden": true,
    "id": "eTTPiHfB1b7Q",
    "scrolled": true
   },
   "outputs": [],
   "source": [
    "shap_values"
   ]
  },
  {
   "cell_type": "code",
   "execution_count": null,
   "metadata": {
    "hidden": true,
    "id": "IVG77ukO1b7Q",
    "outputId": "96901cda-3c6c-4fe4-a36b-eb43b08cc86e"
   },
   "outputs": [
    {
     "name": "stdout",
     "output_type": "stream",
     "text": [
      "(1, 232)\n"
     ]
    }
   ],
   "source": [
    "print(shap_values[0].shape)"
   ]
  },
  {
   "cell_type": "code",
   "execution_count": null,
   "metadata": {
    "hidden": true,
    "id": "Ea2YZzkQ1b7Q"
   },
   "outputs": [],
   "source": [
    "# %% >> Visualize local predictions\n",
    "shap.initjs()\n",
    "# Force plot\n",
    "prediction = log_model.predict(X_test[start_index:end_index])[0]\n",
    "print(f\"The log_model predicted: {prediction}\")\n",
    "shap.force_plot(explainer.expected_value[1],\n",
    "                shap_values[1],\n",
    "                X_test[start_index:end_index], # for values\n",
    "                feature_names= X.columns,) "
   ]
  },
  {
   "cell_type": "code",
   "execution_count": null,
   "metadata": {
    "hidden": true,
    "id": "DscXral61b7Q",
    "scrolled": true
   },
   "outputs": [],
   "source": [
    "shap.summary_plot(shap_values, X_train,max_display=300,feature_names = X.columns)"
   ]
  },
  {
   "cell_type": "markdown",
   "metadata": {
    "heading_collapsed": true,
    "id": "9hxUcvZG1b7J"
   },
   "source": [
    "# Before the Deployment \n",
    "- Choose the model that works best based on your chosen metric\n",
    "- For final step, fit the best model with whole dataset to get better performance.\n",
    "- And your model ready to deploy, dump your model and scaler."
   ]
  },
  {
   "cell_type": "code",
   "execution_count": null,
   "metadata": {
    "id": "4UOn_G0n2N2Z"
   },
   "outputs": [],
   "source": []
  },
  {
   "cell_type": "markdown",
   "metadata": {
    "hidden": true,
    "id": "g8_x-BiN1b7Q"
   },
   "source": [
    "___\n",
    "\n",
    "<p style=\"text-align: center;\"><img src=\"https://docs.google.com/uc?id=1lY0Uj5R04yMY3-ZppPWxqCr5pvBLYPnV\" class=\"img-fluid\" alt=\"CLRSWY\"></p>\n",
    "\n",
    "___"
   ]
  }
 ],
 "metadata": {
  "colab": {
   "collapsed_sections": [
    "K7UZHtvu1b62",
    "C5lJeTBu1b65",
    "TMjCTEG51b67",
    "CS5-GZy0sl4s",
    "zfi_NOw0s2fM",
    "p3gH5QvE1b7I",
    "9hxUcvZG1b7J",
    "9Rqk02x61b7L",
    "aoKU_HZR1b7M",
    "1hBIqmFL1b7O",
    "AVnS0UKO1b7P"
   ],
   "provenance": []
  },
  "hide_input": false,
  "interpreter": {
   "hash": "e4e90950cb561445fc7289d5187c528b28750a487d008a70b474c773afaf79b7"
  },
  "kernelspec": {
   "display_name": "Python 3 (ipykernel)",
   "language": "python",
   "name": "python3"
  },
  "language_info": {
   "codemirror_mode": {
    "name": "ipython",
    "version": 3
   },
   "file_extension": ".py",
   "mimetype": "text/x-python",
   "name": "python",
   "nbconvert_exporter": "python",
   "pygments_lexer": "ipython3",
   "version": "3.9.12"
  },
  "nbTranslate": {
   "displayLangs": [
    "*"
   ],
   "hotkey": "alt-t",
   "langInMainMenu": true,
   "sourceLang": "en",
   "targetLang": "fr",
   "useGoogleTranslate": true
  },
  "toc": {
   "base_numbering": 1,
   "nav_menu": {},
   "number_sections": true,
   "sideBar": true,
   "skip_h1_title": false,
   "title_cell": "Table of Contents",
   "title_sidebar": "Contents",
   "toc_cell": false,
   "toc_position": {
    "height": "calc(100% - 180px)",
    "left": "10px",
    "top": "150px",
    "width": "338.797px"
   },
   "toc_section_display": true,
   "toc_window_display": false
  },
  "varInspector": {
   "cols": {
    "lenName": 16,
    "lenType": 16,
    "lenVar": 40
   },
   "kernels_config": {
    "python": {
     "delete_cmd_postfix": "",
     "delete_cmd_prefix": "del ",
     "library": "var_list.py",
     "varRefreshCmd": "print(var_dic_list())"
    },
    "r": {
     "delete_cmd_postfix": ") ",
     "delete_cmd_prefix": "rm(",
     "library": "var_list.r",
     "varRefreshCmd": "cat(var_dic_list()) "
    }
   },
   "oldHeight": 527,
   "position": {
    "height": "40px",
    "left": "1034px",
    "right": "20px",
    "top": "185px",
    "width": "661px"
   },
   "types_to_exclude": [
    "module",
    "function",
    "builtin_function_or_method",
    "instance",
    "_Feature"
   ],
   "varInspector_section_display": "none",
   "window_display": false
  }
 },
 "nbformat": 4,
 "nbformat_minor": 1
}
